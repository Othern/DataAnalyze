{
 "cells": [
  {
   "cell_type": "code",
   "execution_count": 1,
   "metadata": {
    "collapsed": true,
    "ExecuteTime": {
     "end_time": "2023-10-27T12:43:41.495937200Z",
     "start_time": "2023-10-27T12:43:41.325890Z"
    }
   },
   "outputs": [],
   "source": [
    "import pandas as pd\n",
    "import requests\n",
    "from bs4 import BeautifulSoup\n",
    "\n",
    "def scrape_icydata_player_stats(id, year):\n",
    "    # Construct the URL based on the provided id\n",
    "    url = f\"https://www.icydata.hockey/player_stats/{id}\"\n",
    "\n",
    "    # Send an HTTP GET request to the URL\n",
    "    response = requests.get(url)\n",
    "\n",
    "    # Check if the request was successful\n",
    "    if response.status_code == 200:\n",
    "        # Parse the HTML content of the page\n",
    "        soup = BeautifulSoup(response.text, 'html.parser')\n",
    "\n",
    "        # Find the table with the id \"player-stats\"\n",
    "        table = soup.find('table', {'id': 'player-stats'})\n",
    "\n",
    "        if table:\n",
    "            # Extract data from the table\n",
    "            rows = table.find_all('tr')\n",
    "            data = []\n",
    "\n",
    "            for row in rows:\n",
    "                data_cells = row.find_all('td')\n",
    "                if data_cells:\n",
    "                    data.append([cell.get_text(strip=True) for cell in data_cells])\n",
    "\n",
    "            # Assuming the first row is the header\n",
    "            header_cells = rows[0].find_all('th')\n",
    "            headers = [cell.get_text(strip=True) for cell in header_cells]\n",
    "\n",
    "            # Create a pandas DataFrame\n",
    "            df = pd.DataFrame(data, columns=headers)\n",
    "\n",
    "            # Create a Series with 2023\n",
    "            year_series = pd.Series([year] * len(df))\n",
    "\n",
    "            # Assign the Series to the 'Year' column in the DataFrame\n",
    "            df['Year'] = year_series\n",
    "\n",
    "            # Return the DataFrame\n",
    "            return df\n",
    "\n",
    "        else:\n",
    "            print(\"Table with id 'player-stats' not found on the page.\")\n",
    "            return None\n",
    "\n",
    "    else:\n",
    "        print(\"Failed to retrieve the page. Status code:\", response.status_code)\n",
    "        return None"
   ]
  },
  {
   "cell_type": "code",
   "execution_count": 2,
   "outputs": [
    {
     "data": {
      "text/plain": "               Player Team  GP   G   A Pts  +/-  PN PIM    S  SB  MS    H  GV  \\\n0    Jake Livingstone  NSH   5   0   1   1   -2   1   2    3   4   2    6   3   \n1     Philip Tomasino  NSH  31   5  13  18    5   3   6   53  21  26   28  15   \n2    Luke Evangelista  NSH  24   7   8  15    7   3   6   54  17   7    9   9   \n3    Spencer Stastney  NSH   8   0   2   2    4   1   2    9   3   2    2   3   \n4         Tommy Novak  NSH  42  13  24  37    4   3   6   71  32  27    6  13   \n..                ...  ...  ..  ..  ..  ..  ...  ..  ..  ...  ..  ..  ...  ..   \n954   Mikael Granlund  NSH  79  10  32  42  -15  10  20  121  51  51   78  33   \n955    Filip Forsberg  NSH  50  19  23  42   -3  10  20  157  81  84   86  29   \n956    Colton Sissons  NSH  82  12  18  30   -3  10  20   88  43  48  164  27   \n957      Yakov Trenin  NSH  77  12  12  24   -7  18  47  140  52  64  167  43   \n958    Steven Lorentz  S.J  80  10   9  19  -17   7  16  112  40  41  133  15   \n\n     TK  BS   FW   FL     F%  Year  \n0     0  12    0    0      0  2023  \n1    10  16    9    8  52.94  2023  \n2    15   6    0    0      0  2023  \n3     2   9    0    0      0  2023  \n4    24  21  161  181  47.08  2023  \n..   ..  ..  ...  ...    ...   ...  \n954  38  61  171  213  44.53  2023  \n955  34  20    0    1      0  2023  \n956  32  72  591  516  53.39  2023  \n957  44  30   14   22  38.89  2023  \n958  46  46  262  284  47.99  2023  \n\n[959 rows x 20 columns]",
      "text/html": "<div>\n<style scoped>\n    .dataframe tbody tr th:only-of-type {\n        vertical-align: middle;\n    }\n\n    .dataframe tbody tr th {\n        vertical-align: top;\n    }\n\n    .dataframe thead th {\n        text-align: right;\n    }\n</style>\n<table border=\"1\" class=\"dataframe\">\n  <thead>\n    <tr style=\"text-align: right;\">\n      <th></th>\n      <th>Player</th>\n      <th>Team</th>\n      <th>GP</th>\n      <th>G</th>\n      <th>A</th>\n      <th>Pts</th>\n      <th>+/-</th>\n      <th>PN</th>\n      <th>PIM</th>\n      <th>S</th>\n      <th>SB</th>\n      <th>MS</th>\n      <th>H</th>\n      <th>GV</th>\n      <th>TK</th>\n      <th>BS</th>\n      <th>FW</th>\n      <th>FL</th>\n      <th>F%</th>\n      <th>Year</th>\n    </tr>\n  </thead>\n  <tbody>\n    <tr>\n      <th>0</th>\n      <td>Jake Livingstone</td>\n      <td>NSH</td>\n      <td>5</td>\n      <td>0</td>\n      <td>1</td>\n      <td>1</td>\n      <td>-2</td>\n      <td>1</td>\n      <td>2</td>\n      <td>3</td>\n      <td>4</td>\n      <td>2</td>\n      <td>6</td>\n      <td>3</td>\n      <td>0</td>\n      <td>12</td>\n      <td>0</td>\n      <td>0</td>\n      <td>0</td>\n      <td>2023</td>\n    </tr>\n    <tr>\n      <th>1</th>\n      <td>Philip Tomasino</td>\n      <td>NSH</td>\n      <td>31</td>\n      <td>5</td>\n      <td>13</td>\n      <td>18</td>\n      <td>5</td>\n      <td>3</td>\n      <td>6</td>\n      <td>53</td>\n      <td>21</td>\n      <td>26</td>\n      <td>28</td>\n      <td>15</td>\n      <td>10</td>\n      <td>16</td>\n      <td>9</td>\n      <td>8</td>\n      <td>52.94</td>\n      <td>2023</td>\n    </tr>\n    <tr>\n      <th>2</th>\n      <td>Luke Evangelista</td>\n      <td>NSH</td>\n      <td>24</td>\n      <td>7</td>\n      <td>8</td>\n      <td>15</td>\n      <td>7</td>\n      <td>3</td>\n      <td>6</td>\n      <td>54</td>\n      <td>17</td>\n      <td>7</td>\n      <td>9</td>\n      <td>9</td>\n      <td>15</td>\n      <td>6</td>\n      <td>0</td>\n      <td>0</td>\n      <td>0</td>\n      <td>2023</td>\n    </tr>\n    <tr>\n      <th>3</th>\n      <td>Spencer Stastney</td>\n      <td>NSH</td>\n      <td>8</td>\n      <td>0</td>\n      <td>2</td>\n      <td>2</td>\n      <td>4</td>\n      <td>1</td>\n      <td>2</td>\n      <td>9</td>\n      <td>3</td>\n      <td>2</td>\n      <td>2</td>\n      <td>3</td>\n      <td>2</td>\n      <td>9</td>\n      <td>0</td>\n      <td>0</td>\n      <td>0</td>\n      <td>2023</td>\n    </tr>\n    <tr>\n      <th>4</th>\n      <td>Tommy Novak</td>\n      <td>NSH</td>\n      <td>42</td>\n      <td>13</td>\n      <td>24</td>\n      <td>37</td>\n      <td>4</td>\n      <td>3</td>\n      <td>6</td>\n      <td>71</td>\n      <td>32</td>\n      <td>27</td>\n      <td>6</td>\n      <td>13</td>\n      <td>24</td>\n      <td>21</td>\n      <td>161</td>\n      <td>181</td>\n      <td>47.08</td>\n      <td>2023</td>\n    </tr>\n    <tr>\n      <th>...</th>\n      <td>...</td>\n      <td>...</td>\n      <td>...</td>\n      <td>...</td>\n      <td>...</td>\n      <td>...</td>\n      <td>...</td>\n      <td>...</td>\n      <td>...</td>\n      <td>...</td>\n      <td>...</td>\n      <td>...</td>\n      <td>...</td>\n      <td>...</td>\n      <td>...</td>\n      <td>...</td>\n      <td>...</td>\n      <td>...</td>\n      <td>...</td>\n      <td>...</td>\n    </tr>\n    <tr>\n      <th>954</th>\n      <td>Mikael Granlund</td>\n      <td>NSH</td>\n      <td>79</td>\n      <td>10</td>\n      <td>32</td>\n      <td>42</td>\n      <td>-15</td>\n      <td>10</td>\n      <td>20</td>\n      <td>121</td>\n      <td>51</td>\n      <td>51</td>\n      <td>78</td>\n      <td>33</td>\n      <td>38</td>\n      <td>61</td>\n      <td>171</td>\n      <td>213</td>\n      <td>44.53</td>\n      <td>2023</td>\n    </tr>\n    <tr>\n      <th>955</th>\n      <td>Filip Forsberg</td>\n      <td>NSH</td>\n      <td>50</td>\n      <td>19</td>\n      <td>23</td>\n      <td>42</td>\n      <td>-3</td>\n      <td>10</td>\n      <td>20</td>\n      <td>157</td>\n      <td>81</td>\n      <td>84</td>\n      <td>86</td>\n      <td>29</td>\n      <td>34</td>\n      <td>20</td>\n      <td>0</td>\n      <td>1</td>\n      <td>0</td>\n      <td>2023</td>\n    </tr>\n    <tr>\n      <th>956</th>\n      <td>Colton Sissons</td>\n      <td>NSH</td>\n      <td>82</td>\n      <td>12</td>\n      <td>18</td>\n      <td>30</td>\n      <td>-3</td>\n      <td>10</td>\n      <td>20</td>\n      <td>88</td>\n      <td>43</td>\n      <td>48</td>\n      <td>164</td>\n      <td>27</td>\n      <td>32</td>\n      <td>72</td>\n      <td>591</td>\n      <td>516</td>\n      <td>53.39</td>\n      <td>2023</td>\n    </tr>\n    <tr>\n      <th>957</th>\n      <td>Yakov Trenin</td>\n      <td>NSH</td>\n      <td>77</td>\n      <td>12</td>\n      <td>12</td>\n      <td>24</td>\n      <td>-7</td>\n      <td>18</td>\n      <td>47</td>\n      <td>140</td>\n      <td>52</td>\n      <td>64</td>\n      <td>167</td>\n      <td>43</td>\n      <td>44</td>\n      <td>30</td>\n      <td>14</td>\n      <td>22</td>\n      <td>38.89</td>\n      <td>2023</td>\n    </tr>\n    <tr>\n      <th>958</th>\n      <td>Steven Lorentz</td>\n      <td>S.J</td>\n      <td>80</td>\n      <td>10</td>\n      <td>9</td>\n      <td>19</td>\n      <td>-17</td>\n      <td>7</td>\n      <td>16</td>\n      <td>112</td>\n      <td>40</td>\n      <td>41</td>\n      <td>133</td>\n      <td>15</td>\n      <td>46</td>\n      <td>46</td>\n      <td>262</td>\n      <td>284</td>\n      <td>47.99</td>\n      <td>2023</td>\n    </tr>\n  </tbody>\n</table>\n<p>959 rows × 20 columns</p>\n</div>"
     },
     "execution_count": 2,
     "metadata": {},
     "output_type": "execute_result"
    }
   ],
   "source": [
    "# 2023 Player States:\n",
    "id_to_scrape = 39\n",
    "target_year = 2023\n",
    "df_2023 = scrape_icydata_player_stats(id_to_scrape, target_year)\n",
    "df_2023.to_csv(f'IceHockey{target_year}.csv', encoding='utf-8', index=False)\n",
    "df_2023"
   ],
   "metadata": {
    "collapsed": false,
    "ExecuteTime": {
     "end_time": "2023-10-27T12:44:01.325869800Z",
     "start_time": "2023-10-27T12:43:42.335728800Z"
    }
   }
  },
  {
   "cell_type": "code",
   "execution_count": 3,
   "outputs": [
    {
     "data": {
      "text/plain": "             Player Team  GP   G   A Pts +/-  PN PIM    S  SB  MS   H  GV  TK  \\\n0      Viktor Lodin  OTT   1   0   0   0   0   0   0    3   0   0   0   0   0   \n1      Chris Wagner  BOS   1   0   0   0  -1   0   0    2   0   1  11   0   0   \n2      Kent Johnson  CBJ   9   0   3   3   2   1   2    5   7   8   4   2   2   \n3         Zac Jones  NYR  12   0   2   2  -7   0   0    8   3   6   4  12  15   \n4       Hunter Drew  ANA   2   0   0   0   0   1   5    0   1   0   5   0   0   \n...             ...  ...  ..  ..  ..  ..  ..  ..  ..  ...  ..  ..  ..  ..  ..   \n1007    John Marino  PIT  81   1  23  24   4  10  23   90  62  39  73  35  43   \n1008  Drew O'Connor  PIT  22   3   2   5  -2   2   4   40   8  14  12   5   9   \n1009      Jan Rutta  TBL  76   3  15  18  24  22  49   86  68  44  93  18   6   \n1010  Teddy Blueger  PIT  65   9  21  30  12   5  10   93  20  21  87  22  37   \n1011    Jeff Carter  PIT  76  19  26  45  -8  18  38  200  69  45  98  39  33   \n\n      BS   FW   FL     F%  Year  \n0      0    0    0      0  2022  \n1      0    0    1      0  2022  \n2      1    0    0      0  2022  \n3     13    0    0      0  2022  \n4      0    0    0      0  2022  \n...   ..  ...  ...    ...   ...  \n1007  88    0    0      0  2022  \n1008   7   18   34  34.62  2022  \n1009  71    0    0      0  2022  \n1010  32  356  318  52.82  2022  \n1011  50  648  489  56.99  2022  \n\n[1012 rows x 20 columns]",
      "text/html": "<div>\n<style scoped>\n    .dataframe tbody tr th:only-of-type {\n        vertical-align: middle;\n    }\n\n    .dataframe tbody tr th {\n        vertical-align: top;\n    }\n\n    .dataframe thead th {\n        text-align: right;\n    }\n</style>\n<table border=\"1\" class=\"dataframe\">\n  <thead>\n    <tr style=\"text-align: right;\">\n      <th></th>\n      <th>Player</th>\n      <th>Team</th>\n      <th>GP</th>\n      <th>G</th>\n      <th>A</th>\n      <th>Pts</th>\n      <th>+/-</th>\n      <th>PN</th>\n      <th>PIM</th>\n      <th>S</th>\n      <th>SB</th>\n      <th>MS</th>\n      <th>H</th>\n      <th>GV</th>\n      <th>TK</th>\n      <th>BS</th>\n      <th>FW</th>\n      <th>FL</th>\n      <th>F%</th>\n      <th>Year</th>\n    </tr>\n  </thead>\n  <tbody>\n    <tr>\n      <th>0</th>\n      <td>Viktor Lodin</td>\n      <td>OTT</td>\n      <td>1</td>\n      <td>0</td>\n      <td>0</td>\n      <td>0</td>\n      <td>0</td>\n      <td>0</td>\n      <td>0</td>\n      <td>3</td>\n      <td>0</td>\n      <td>0</td>\n      <td>0</td>\n      <td>0</td>\n      <td>0</td>\n      <td>0</td>\n      <td>0</td>\n      <td>0</td>\n      <td>0</td>\n      <td>2022</td>\n    </tr>\n    <tr>\n      <th>1</th>\n      <td>Chris Wagner</td>\n      <td>BOS</td>\n      <td>1</td>\n      <td>0</td>\n      <td>0</td>\n      <td>0</td>\n      <td>-1</td>\n      <td>0</td>\n      <td>0</td>\n      <td>2</td>\n      <td>0</td>\n      <td>1</td>\n      <td>11</td>\n      <td>0</td>\n      <td>0</td>\n      <td>0</td>\n      <td>0</td>\n      <td>1</td>\n      <td>0</td>\n      <td>2022</td>\n    </tr>\n    <tr>\n      <th>2</th>\n      <td>Kent Johnson</td>\n      <td>CBJ</td>\n      <td>9</td>\n      <td>0</td>\n      <td>3</td>\n      <td>3</td>\n      <td>2</td>\n      <td>1</td>\n      <td>2</td>\n      <td>5</td>\n      <td>7</td>\n      <td>8</td>\n      <td>4</td>\n      <td>2</td>\n      <td>2</td>\n      <td>1</td>\n      <td>0</td>\n      <td>0</td>\n      <td>0</td>\n      <td>2022</td>\n    </tr>\n    <tr>\n      <th>3</th>\n      <td>Zac Jones</td>\n      <td>NYR</td>\n      <td>12</td>\n      <td>0</td>\n      <td>2</td>\n      <td>2</td>\n      <td>-7</td>\n      <td>0</td>\n      <td>0</td>\n      <td>8</td>\n      <td>3</td>\n      <td>6</td>\n      <td>4</td>\n      <td>12</td>\n      <td>15</td>\n      <td>13</td>\n      <td>0</td>\n      <td>0</td>\n      <td>0</td>\n      <td>2022</td>\n    </tr>\n    <tr>\n      <th>4</th>\n      <td>Hunter Drew</td>\n      <td>ANA</td>\n      <td>2</td>\n      <td>0</td>\n      <td>0</td>\n      <td>0</td>\n      <td>0</td>\n      <td>1</td>\n      <td>5</td>\n      <td>0</td>\n      <td>1</td>\n      <td>0</td>\n      <td>5</td>\n      <td>0</td>\n      <td>0</td>\n      <td>0</td>\n      <td>0</td>\n      <td>0</td>\n      <td>0</td>\n      <td>2022</td>\n    </tr>\n    <tr>\n      <th>...</th>\n      <td>...</td>\n      <td>...</td>\n      <td>...</td>\n      <td>...</td>\n      <td>...</td>\n      <td>...</td>\n      <td>...</td>\n      <td>...</td>\n      <td>...</td>\n      <td>...</td>\n      <td>...</td>\n      <td>...</td>\n      <td>...</td>\n      <td>...</td>\n      <td>...</td>\n      <td>...</td>\n      <td>...</td>\n      <td>...</td>\n      <td>...</td>\n      <td>...</td>\n    </tr>\n    <tr>\n      <th>1007</th>\n      <td>John Marino</td>\n      <td>PIT</td>\n      <td>81</td>\n      <td>1</td>\n      <td>23</td>\n      <td>24</td>\n      <td>4</td>\n      <td>10</td>\n      <td>23</td>\n      <td>90</td>\n      <td>62</td>\n      <td>39</td>\n      <td>73</td>\n      <td>35</td>\n      <td>43</td>\n      <td>88</td>\n      <td>0</td>\n      <td>0</td>\n      <td>0</td>\n      <td>2022</td>\n    </tr>\n    <tr>\n      <th>1008</th>\n      <td>Drew O'Connor</td>\n      <td>PIT</td>\n      <td>22</td>\n      <td>3</td>\n      <td>2</td>\n      <td>5</td>\n      <td>-2</td>\n      <td>2</td>\n      <td>4</td>\n      <td>40</td>\n      <td>8</td>\n      <td>14</td>\n      <td>12</td>\n      <td>5</td>\n      <td>9</td>\n      <td>7</td>\n      <td>18</td>\n      <td>34</td>\n      <td>34.62</td>\n      <td>2022</td>\n    </tr>\n    <tr>\n      <th>1009</th>\n      <td>Jan Rutta</td>\n      <td>TBL</td>\n      <td>76</td>\n      <td>3</td>\n      <td>15</td>\n      <td>18</td>\n      <td>24</td>\n      <td>22</td>\n      <td>49</td>\n      <td>86</td>\n      <td>68</td>\n      <td>44</td>\n      <td>93</td>\n      <td>18</td>\n      <td>6</td>\n      <td>71</td>\n      <td>0</td>\n      <td>0</td>\n      <td>0</td>\n      <td>2022</td>\n    </tr>\n    <tr>\n      <th>1010</th>\n      <td>Teddy Blueger</td>\n      <td>PIT</td>\n      <td>65</td>\n      <td>9</td>\n      <td>21</td>\n      <td>30</td>\n      <td>12</td>\n      <td>5</td>\n      <td>10</td>\n      <td>93</td>\n      <td>20</td>\n      <td>21</td>\n      <td>87</td>\n      <td>22</td>\n      <td>37</td>\n      <td>32</td>\n      <td>356</td>\n      <td>318</td>\n      <td>52.82</td>\n      <td>2022</td>\n    </tr>\n    <tr>\n      <th>1011</th>\n      <td>Jeff Carter</td>\n      <td>PIT</td>\n      <td>76</td>\n      <td>19</td>\n      <td>26</td>\n      <td>45</td>\n      <td>-8</td>\n      <td>18</td>\n      <td>38</td>\n      <td>200</td>\n      <td>69</td>\n      <td>45</td>\n      <td>98</td>\n      <td>39</td>\n      <td>33</td>\n      <td>50</td>\n      <td>648</td>\n      <td>489</td>\n      <td>56.99</td>\n      <td>2022</td>\n    </tr>\n  </tbody>\n</table>\n<p>1012 rows × 20 columns</p>\n</div>"
     },
     "execution_count": 3,
     "metadata": {},
     "output_type": "execute_result"
    }
   ],
   "source": [
    "# 2023 Player States:\n",
    "id_to_scrape = 36\n",
    "target_year = 2022\n",
    "df_2022 = scrape_icydata_player_stats(id_to_scrape, target_year)\n",
    "df_2022.to_csv(f'IceHockey{target_year}.csv', encoding='utf-8', index=False)\n",
    "df_2022"
   ],
   "metadata": {
    "collapsed": false,
    "ExecuteTime": {
     "end_time": "2023-10-27T12:45:39.210395600Z",
     "start_time": "2023-10-27T12:45:31.819565200Z"
    }
   }
  },
  {
   "cell_type": "code",
   "execution_count": 4,
   "outputs": [],
   "source": [
    "def scrape_nhl_salaries(year):\n",
    "    # Construct the URL based on the provided year\n",
    "    url = f\"https://www.hockey-reference.com/friv/current_nhl_salaries.cgi\"\n",
    "\n",
    "    # Send an HTTP GET request to the URL\n",
    "    response = requests.get(url)\n",
    "\n",
    "    # Check if the request was successful\n",
    "    if response.status_code == 200:\n",
    "        # Parse the HTML content of the page\n",
    "        soup = BeautifulSoup(response.text, 'html.parser')\n",
    "\n",
    "        # Find the table with the id \"salaries\"\n",
    "        table = soup.find('table', {'id': 'salaries'})\n",
    "\n",
    "        if table:\n",
    "            # Extract data from the table\n",
    "            rows = table.find_all('tr')\n",
    "            data = []\n",
    "\n",
    "            for row in rows:\n",
    "                # Check if it's a header row (th elements) or data row (td elements)\n",
    "                cells = row.find_all(['th', 'td'])\n",
    "                row_data = [cell.get_text(strip=True) for cell in cells]\n",
    "                data.append(row_data)\n",
    "\n",
    "            # Assuming the first row is the header\n",
    "            header_cells = rows[0].find_all('th')\n",
    "            headers = [cell.get_text(strip=True) for cell in header_cells]\n",
    "\n",
    "            # Create a pandas DataFrame\n",
    "            df = pd.DataFrame(data, columns=headers)\n",
    "\n",
    "            # Create a Series with the provided year\n",
    "            year_series = pd.Series([year] * len(df))\n",
    "\n",
    "            # Assign the Series to the 'Year' column in the DataFrame\n",
    "            df['Year'] = year_series\n",
    "\n",
    "            # Return the DataFrame\n",
    "            return df\n",
    "\n",
    "        else:\n",
    "            print(\"Table with id 'salaries' not found on the page.\")\n",
    "            return None\n",
    "\n",
    "    else:\n",
    "        print(\"Failed to retrieve the page. Status code:\", response.status_code)\n",
    "        return None"
   ],
   "metadata": {
    "collapsed": false,
    "ExecuteTime": {
     "end_time": "2023-10-27T13:03:10.165083700Z",
     "start_time": "2023-10-27T13:03:10.153078900Z"
    }
   }
  },
  {
   "cell_type": "code",
   "execution_count": 6,
   "outputs": [
    {
     "data": {
      "text/plain": "                   Player   Tm      Salary     Cap Hit  Year\n0                  Player   Tm      Salary     Cap Hit  2024\n1         Kirill Kaprizov  MIN  12,500,000   9,000,000  2024\n2                Adam Fox  NYR  12,000,000   9,500,000  2024\n3            Drew Doughty  LAK  11,000,000  11,000,000  2024\n4              Cale Makar  COL  11,000,000   9,000,000  2024\n..                    ...  ...         ...         ...   ...\n699      William Lockwood  FLA     775,000     775,000  2024\n700  Oliver Ekman-Larsson  FLA     775,000   2,250,000  2024\n701        Uvis Balinskis  FLA     775,000     870,000  2024\n702          Cuylle, Will  NYR     775,000     828,333  2024\n703             Greer, AJ  CGY     775,000     762,500  2024\n\n[704 rows x 5 columns]",
      "text/html": "<div>\n<style scoped>\n    .dataframe tbody tr th:only-of-type {\n        vertical-align: middle;\n    }\n\n    .dataframe tbody tr th {\n        vertical-align: top;\n    }\n\n    .dataframe thead th {\n        text-align: right;\n    }\n</style>\n<table border=\"1\" class=\"dataframe\">\n  <thead>\n    <tr style=\"text-align: right;\">\n      <th></th>\n      <th>Player</th>\n      <th>Tm</th>\n      <th>Salary</th>\n      <th>Cap Hit</th>\n      <th>Year</th>\n    </tr>\n  </thead>\n  <tbody>\n    <tr>\n      <th>0</th>\n      <td>Player</td>\n      <td>Tm</td>\n      <td>Salary</td>\n      <td>Cap Hit</td>\n      <td>2024</td>\n    </tr>\n    <tr>\n      <th>1</th>\n      <td>Kirill Kaprizov</td>\n      <td>MIN</td>\n      <td>12,500,000</td>\n      <td>9,000,000</td>\n      <td>2024</td>\n    </tr>\n    <tr>\n      <th>2</th>\n      <td>Adam Fox</td>\n      <td>NYR</td>\n      <td>12,000,000</td>\n      <td>9,500,000</td>\n      <td>2024</td>\n    </tr>\n    <tr>\n      <th>3</th>\n      <td>Drew Doughty</td>\n      <td>LAK</td>\n      <td>11,000,000</td>\n      <td>11,000,000</td>\n      <td>2024</td>\n    </tr>\n    <tr>\n      <th>4</th>\n      <td>Cale Makar</td>\n      <td>COL</td>\n      <td>11,000,000</td>\n      <td>9,000,000</td>\n      <td>2024</td>\n    </tr>\n    <tr>\n      <th>...</th>\n      <td>...</td>\n      <td>...</td>\n      <td>...</td>\n      <td>...</td>\n      <td>...</td>\n    </tr>\n    <tr>\n      <th>699</th>\n      <td>William Lockwood</td>\n      <td>FLA</td>\n      <td>775,000</td>\n      <td>775,000</td>\n      <td>2024</td>\n    </tr>\n    <tr>\n      <th>700</th>\n      <td>Oliver Ekman-Larsson</td>\n      <td>FLA</td>\n      <td>775,000</td>\n      <td>2,250,000</td>\n      <td>2024</td>\n    </tr>\n    <tr>\n      <th>701</th>\n      <td>Uvis Balinskis</td>\n      <td>FLA</td>\n      <td>775,000</td>\n      <td>870,000</td>\n      <td>2024</td>\n    </tr>\n    <tr>\n      <th>702</th>\n      <td>Cuylle, Will</td>\n      <td>NYR</td>\n      <td>775,000</td>\n      <td>828,333</td>\n      <td>2024</td>\n    </tr>\n    <tr>\n      <th>703</th>\n      <td>Greer, AJ</td>\n      <td>CGY</td>\n      <td>775,000</td>\n      <td>762,500</td>\n      <td>2024</td>\n    </tr>\n  </tbody>\n</table>\n<p>704 rows × 5 columns</p>\n</div>"
     },
     "execution_count": 6,
     "metadata": {},
     "output_type": "execute_result"
    }
   ],
   "source": [
    "# Example usage:\n",
    "year_to_scrape = 2024\n",
    "\n",
    "df_salaries = scrape_nhl_salaries(year_to_scrape)\n",
    "\n",
    "df_salaries.to_csv('Player2024Salary.csv', encoding='utf-8', index=False)\n",
    "df_salaries"
   ],
   "metadata": {
    "collapsed": false,
    "ExecuteTime": {
     "end_time": "2023-10-27T13:04:49.547110Z",
     "start_time": "2023-10-27T13:04:49.016945100Z"
    }
   }
  },
  {
   "cell_type": "code",
   "execution_count": 7,
   "outputs": [],
   "source": [
    "import requests\n",
    "from bs4 import BeautifulSoup\n",
    "import pandas as pd\n",
    "\n",
    "def player_data_from_alphabet(alphabet):\n",
    "    # Construct the URL based on the provided alphabet\n",
    "    url = f\"https://newsday.sportsdirectinc.com/hockey/nhl-players.aspx?page=/data/nhl/players/{alphabet}_players.html\"\n",
    "\n",
    "    # Send an HTTP GET request to the URL\n",
    "    response = requests.get(url)\n",
    "\n",
    "    # Check if the request was successful\n",
    "    if response.status_code == 200:\n",
    "        # Parse the HTML content of the page\n",
    "        soup = BeautifulSoup(response.text, 'html.parser')\n",
    "\n",
    "        # Find all tables on the page\n",
    "        tables = soup.find_all('table')\n",
    "\n",
    "        # Check if there are at least three tables on the page\n",
    "        if len(tables) >= 3:\n",
    "            # Select the third table (index 2 in Python, as indexing starts from 0)\n",
    "            table = tables[2]\n",
    "\n",
    "            # Extract data from the table\n",
    "            rows = table.find_all('tr')\n",
    "            data = []\n",
    "\n",
    "            # Assuming the first row is the header\n",
    "            header_cells = rows[0].find_all('td')\n",
    "            headers = [cell.get_text(strip=True) for cell in header_cells]\n",
    "\n",
    "            for row in rows[1:]:\n",
    "                data_cells = row.find_all('td')\n",
    "                row_data = [cell.get_text(strip=True) for cell in data_cells]\n",
    "                data.append(row_data)\n",
    "\n",
    "            # Create a pandas DataFrame\n",
    "            df = pd.DataFrame(data, columns=headers)\n",
    "\n",
    "            # Return the DataFrame\n",
    "            return df\n",
    "\n",
    "        else:\n",
    "            print(\"There are not enough tables on the page.\")\n",
    "            return None\n",
    "\n",
    "    else:\n",
    "        print(\"Failed to retrieve the page. Status code:\", response.status_code)\n",
    "        return None"
   ],
   "metadata": {
    "collapsed": false,
    "ExecuteTime": {
     "end_time": "2023-10-27T13:05:31.239725400Z",
     "start_time": "2023-10-27T13:05:31.220721800Z"
    }
   }
  },
  {
   "cell_type": "code",
   "execution_count": 18,
   "outputs": [
    {
     "name": "stdout",
     "output_type": "stream",
     "text": [
      "Getting A Player\n",
      "Getting B Player\n",
      "Getting C Player\n",
      "Getting D Player\n",
      "Getting E Player\n",
      "Getting F Player\n",
      "Getting G Player\n",
      "Getting H Player\n",
      "Getting I Player\n",
      "Getting J Player\n",
      "Getting K Player\n",
      "Getting L Player\n",
      "Getting M Player\n",
      "Getting N Player\n",
      "Getting O Player\n",
      "Getting P Player\n",
      "Getting Q Player\n",
      "Getting R Player\n",
      "Getting S Player\n",
      "Getting T Player\n",
      "Getting U Player\n",
      "Getting V Player\n",
      "Getting W Player\n",
      "Getting X Player\n",
      "Getting Y Player\n",
      "Getting Z Player\n"
     ]
    },
    {
     "data": {
      "text/plain": "                 Player Pos Team Num Height   Weight      DOB\n0         Acciari, Noel   C  PIT  55  5'10\"  209 lbs  12/1/91\n1        Addison, Calen   D  MIN   2  5'11\"  173 lbs  4/11/00\n2        Aho, Sebastian   C  CAR  20   6'0\"  176 lbs  7/26/97\n3        Aho, Sebastian   D  NYI  25  5'10\"  180 lbs  2/17/96\n4    Alexandrov, Nikita   C  STL  59   6'1\"  177 lbs  9/16/00\n..                  ...  ..  ...  ..    ...      ...      ...\n778     Zibanejad, Mika   C  NYR  93   6'2\"  201 lbs  4/18/93\n779      Zohorna, Radim  LW  PIT  63   6'6\"  220 lbs  4/29/96\n780          Zub, Artem   D  OTT   2   6'2\"  200 lbs  10/3/95\n781    Zuccarello, Mats  RW  MIN  36   5'8\"  181 lbs   9/1/87\n782       Zucker, Jason  LW  ARI  16  5'11\"  192 lbs  1/16/92\n\n[783 rows x 7 columns]",
      "text/html": "<div>\n<style scoped>\n    .dataframe tbody tr th:only-of-type {\n        vertical-align: middle;\n    }\n\n    .dataframe tbody tr th {\n        vertical-align: top;\n    }\n\n    .dataframe thead th {\n        text-align: right;\n    }\n</style>\n<table border=\"1\" class=\"dataframe\">\n  <thead>\n    <tr style=\"text-align: right;\">\n      <th></th>\n      <th>Player</th>\n      <th>Pos</th>\n      <th>Team</th>\n      <th>Num</th>\n      <th>Height</th>\n      <th>Weight</th>\n      <th>DOB</th>\n    </tr>\n  </thead>\n  <tbody>\n    <tr>\n      <th>0</th>\n      <td>Acciari, Noel</td>\n      <td>C</td>\n      <td>PIT</td>\n      <td>55</td>\n      <td>5'10\"</td>\n      <td>209 lbs</td>\n      <td>12/1/91</td>\n    </tr>\n    <tr>\n      <th>1</th>\n      <td>Addison, Calen</td>\n      <td>D</td>\n      <td>MIN</td>\n      <td>2</td>\n      <td>5'11\"</td>\n      <td>173 lbs</td>\n      <td>4/11/00</td>\n    </tr>\n    <tr>\n      <th>2</th>\n      <td>Aho, Sebastian</td>\n      <td>C</td>\n      <td>CAR</td>\n      <td>20</td>\n      <td>6'0\"</td>\n      <td>176 lbs</td>\n      <td>7/26/97</td>\n    </tr>\n    <tr>\n      <th>3</th>\n      <td>Aho, Sebastian</td>\n      <td>D</td>\n      <td>NYI</td>\n      <td>25</td>\n      <td>5'10\"</td>\n      <td>180 lbs</td>\n      <td>2/17/96</td>\n    </tr>\n    <tr>\n      <th>4</th>\n      <td>Alexandrov, Nikita</td>\n      <td>C</td>\n      <td>STL</td>\n      <td>59</td>\n      <td>6'1\"</td>\n      <td>177 lbs</td>\n      <td>9/16/00</td>\n    </tr>\n    <tr>\n      <th>...</th>\n      <td>...</td>\n      <td>...</td>\n      <td>...</td>\n      <td>...</td>\n      <td>...</td>\n      <td>...</td>\n      <td>...</td>\n    </tr>\n    <tr>\n      <th>778</th>\n      <td>Zibanejad, Mika</td>\n      <td>C</td>\n      <td>NYR</td>\n      <td>93</td>\n      <td>6'2\"</td>\n      <td>201 lbs</td>\n      <td>4/18/93</td>\n    </tr>\n    <tr>\n      <th>779</th>\n      <td>Zohorna, Radim</td>\n      <td>LW</td>\n      <td>PIT</td>\n      <td>63</td>\n      <td>6'6\"</td>\n      <td>220 lbs</td>\n      <td>4/29/96</td>\n    </tr>\n    <tr>\n      <th>780</th>\n      <td>Zub, Artem</td>\n      <td>D</td>\n      <td>OTT</td>\n      <td>2</td>\n      <td>6'2\"</td>\n      <td>200 lbs</td>\n      <td>10/3/95</td>\n    </tr>\n    <tr>\n      <th>781</th>\n      <td>Zuccarello, Mats</td>\n      <td>RW</td>\n      <td>MIN</td>\n      <td>36</td>\n      <td>5'8\"</td>\n      <td>181 lbs</td>\n      <td>9/1/87</td>\n    </tr>\n    <tr>\n      <th>782</th>\n      <td>Zucker, Jason</td>\n      <td>LW</td>\n      <td>ARI</td>\n      <td>16</td>\n      <td>5'11\"</td>\n      <td>192 lbs</td>\n      <td>1/16/92</td>\n    </tr>\n  </tbody>\n</table>\n<p>783 rows × 7 columns</p>\n</div>"
     },
     "execution_count": 18,
     "metadata": {},
     "output_type": "execute_result"
    }
   ],
   "source": [
    "# List of alphabets\n",
    "alphabets = ['A', 'B', 'C', 'D', 'E', 'F', 'G', 'H', 'I', 'J', 'K', 'L', 'M',\n",
    "            'N', 'O', 'P', 'Q', 'R', 'S', 'T', 'U', 'V', 'W', 'X', 'Y', 'Z']\n",
    "\n",
    "# Initialize an empty DataFrame to store the concatenated data\n",
    "concatenated_df = pd.DataFrame()\n",
    "\n",
    "# Iterate through each alphabet and concatenate the data\n",
    "for alphabet in alphabets:\n",
    "    print(f'Getting {alphabet} Player')\n",
    "    df = player_data_from_alphabet(alphabet)\n",
    "    if df is not None:\n",
    "        concatenated_df = pd.concat([concatenated_df, df], ignore_index=True)\n",
    "\n",
    "# Now, concatenated_df contains data from all alphabets\n",
    "concatenated_df"
   ],
   "metadata": {
    "collapsed": false,
    "ExecuteTime": {
     "end_time": "2023-10-27T13:35:21.022218700Z",
     "start_time": "2023-10-27T13:33:29.642535400Z"
    }
   }
  },
  {
   "cell_type": "code",
   "execution_count": 19,
   "outputs": [],
   "source": [
    "# Define a custom function to rearrange the names\n",
    "def rearrange_name(name):\n",
    "    # Split the name by comma and space\n",
    "    parts = name.split(', ')\n",
    "\n",
    "    # Check if there are at least two parts\n",
    "    if len(parts) >= 2:\n",
    "        # Rearrange the parts to 'First Last' format\n",
    "        return f\"{parts[1]} {parts[0]}\"\n",
    "    else:\n",
    "        # If there's only one part, return it as is\n",
    "        return name"
   ],
   "metadata": {
    "collapsed": false,
    "ExecuteTime": {
     "end_time": "2023-10-27T13:35:49.789525600Z",
     "start_time": "2023-10-27T13:35:49.768521Z"
    }
   }
  },
  {
   "cell_type": "code",
   "execution_count": 20,
   "outputs": [
    {
     "data": {
      "text/plain": "                Player Pos Team Num Height   Weight      DOB\n0         Noel Acciari   C  PIT  55  5'10\"  209 lbs  12/1/91\n1        Calen Addison   D  MIN   2  5'11\"  173 lbs  4/11/00\n2        Sebastian Aho   C  CAR  20   6'0\"  176 lbs  7/26/97\n3        Sebastian Aho   D  NYI  25  5'10\"  180 lbs  2/17/96\n4    Nikita Alexandrov   C  STL  59   6'1\"  177 lbs  9/16/00\n..                 ...  ..  ...  ..    ...      ...      ...\n778     Mika Zibanejad   C  NYR  93   6'2\"  201 lbs  4/18/93\n779      Radim Zohorna  LW  PIT  63   6'6\"  220 lbs  4/29/96\n780          Artem Zub   D  OTT   2   6'2\"  200 lbs  10/3/95\n781    Mats Zuccarello  RW  MIN  36   5'8\"  181 lbs   9/1/87\n782       Jason Zucker  LW  ARI  16  5'11\"  192 lbs  1/16/92\n\n[783 rows x 7 columns]",
      "text/html": "<div>\n<style scoped>\n    .dataframe tbody tr th:only-of-type {\n        vertical-align: middle;\n    }\n\n    .dataframe tbody tr th {\n        vertical-align: top;\n    }\n\n    .dataframe thead th {\n        text-align: right;\n    }\n</style>\n<table border=\"1\" class=\"dataframe\">\n  <thead>\n    <tr style=\"text-align: right;\">\n      <th></th>\n      <th>Player</th>\n      <th>Pos</th>\n      <th>Team</th>\n      <th>Num</th>\n      <th>Height</th>\n      <th>Weight</th>\n      <th>DOB</th>\n    </tr>\n  </thead>\n  <tbody>\n    <tr>\n      <th>0</th>\n      <td>Noel Acciari</td>\n      <td>C</td>\n      <td>PIT</td>\n      <td>55</td>\n      <td>5'10\"</td>\n      <td>209 lbs</td>\n      <td>12/1/91</td>\n    </tr>\n    <tr>\n      <th>1</th>\n      <td>Calen Addison</td>\n      <td>D</td>\n      <td>MIN</td>\n      <td>2</td>\n      <td>5'11\"</td>\n      <td>173 lbs</td>\n      <td>4/11/00</td>\n    </tr>\n    <tr>\n      <th>2</th>\n      <td>Sebastian Aho</td>\n      <td>C</td>\n      <td>CAR</td>\n      <td>20</td>\n      <td>6'0\"</td>\n      <td>176 lbs</td>\n      <td>7/26/97</td>\n    </tr>\n    <tr>\n      <th>3</th>\n      <td>Sebastian Aho</td>\n      <td>D</td>\n      <td>NYI</td>\n      <td>25</td>\n      <td>5'10\"</td>\n      <td>180 lbs</td>\n      <td>2/17/96</td>\n    </tr>\n    <tr>\n      <th>4</th>\n      <td>Nikita Alexandrov</td>\n      <td>C</td>\n      <td>STL</td>\n      <td>59</td>\n      <td>6'1\"</td>\n      <td>177 lbs</td>\n      <td>9/16/00</td>\n    </tr>\n    <tr>\n      <th>...</th>\n      <td>...</td>\n      <td>...</td>\n      <td>...</td>\n      <td>...</td>\n      <td>...</td>\n      <td>...</td>\n      <td>...</td>\n    </tr>\n    <tr>\n      <th>778</th>\n      <td>Mika Zibanejad</td>\n      <td>C</td>\n      <td>NYR</td>\n      <td>93</td>\n      <td>6'2\"</td>\n      <td>201 lbs</td>\n      <td>4/18/93</td>\n    </tr>\n    <tr>\n      <th>779</th>\n      <td>Radim Zohorna</td>\n      <td>LW</td>\n      <td>PIT</td>\n      <td>63</td>\n      <td>6'6\"</td>\n      <td>220 lbs</td>\n      <td>4/29/96</td>\n    </tr>\n    <tr>\n      <th>780</th>\n      <td>Artem Zub</td>\n      <td>D</td>\n      <td>OTT</td>\n      <td>2</td>\n      <td>6'2\"</td>\n      <td>200 lbs</td>\n      <td>10/3/95</td>\n    </tr>\n    <tr>\n      <th>781</th>\n      <td>Mats Zuccarello</td>\n      <td>RW</td>\n      <td>MIN</td>\n      <td>36</td>\n      <td>5'8\"</td>\n      <td>181 lbs</td>\n      <td>9/1/87</td>\n    </tr>\n    <tr>\n      <th>782</th>\n      <td>Jason Zucker</td>\n      <td>LW</td>\n      <td>ARI</td>\n      <td>16</td>\n      <td>5'11\"</td>\n      <td>192 lbs</td>\n      <td>1/16/92</td>\n    </tr>\n  </tbody>\n</table>\n<p>783 rows × 7 columns</p>\n</div>"
     },
     "execution_count": 20,
     "metadata": {},
     "output_type": "execute_result"
    }
   ],
   "source": [
    "# Apply the custom function to the \"player\" column\n",
    "concatenated_df[\"Player\"] = concatenated_df[\"Player\"].apply(rearrange_name)\n",
    "concatenated_df"
   ],
   "metadata": {
    "collapsed": false,
    "ExecuteTime": {
     "end_time": "2023-10-27T13:35:50.564160400Z",
     "start_time": "2023-10-27T13:35:50.542156300Z"
    }
   }
  },
  {
   "cell_type": "code",
   "execution_count": 21,
   "outputs": [],
   "source": [
    "# Define a custom function to convert the height to meters\n",
    "def height_to_meters(height):\n",
    "    \"\"\"\n",
    "    Convert a height string in the format 'X\\'Y\"' to meters.\n",
    "    1 foot = 0.3048 meters, 1 inch = 0.0254 meters.\n",
    "\n",
    "    Parameters:\n",
    "        height (str): The height string in 'X\\'Y\"' format.\n",
    "\n",
    "    Returns:\n",
    "        float: The height in meters, or None if the input format is incorrect.\n",
    "    \"\"\"\n",
    "    # Split the height by feet and inches\n",
    "    parts = height.split(\"'\")\n",
    "    if len(parts) == 2:\n",
    "        feet = int(parts[0])\n",
    "        inches = int(parts[1].replace('\"', ''))\n",
    "        total_meters = (feet * 0.3048) + (inches * 0.0254)\n",
    "        return total_meters\n",
    "    else:\n",
    "        return None"
   ],
   "metadata": {
    "collapsed": false,
    "ExecuteTime": {
     "end_time": "2023-10-27T13:35:52.136350Z",
     "start_time": "2023-10-27T13:35:52.120337Z"
    }
   }
  },
  {
   "cell_type": "code",
   "execution_count": 22,
   "outputs": [
    {
     "data": {
      "text/plain": "                Player Pos Team Num  Height   Weight      DOB\n0         Noel Acciari   C  PIT  55  1.7780  209 lbs  12/1/91\n1        Calen Addison   D  MIN   2  1.8034  173 lbs  4/11/00\n2        Sebastian Aho   C  CAR  20  1.8288  176 lbs  7/26/97\n3        Sebastian Aho   D  NYI  25  1.7780  180 lbs  2/17/96\n4    Nikita Alexandrov   C  STL  59  1.8542  177 lbs  9/16/00\n..                 ...  ..  ...  ..     ...      ...      ...\n778     Mika Zibanejad   C  NYR  93  1.8796  201 lbs  4/18/93\n779      Radim Zohorna  LW  PIT  63  1.9812  220 lbs  4/29/96\n780          Artem Zub   D  OTT   2  1.8796  200 lbs  10/3/95\n781    Mats Zuccarello  RW  MIN  36  1.7272  181 lbs   9/1/87\n782       Jason Zucker  LW  ARI  16  1.8034  192 lbs  1/16/92\n\n[783 rows x 7 columns]",
      "text/html": "<div>\n<style scoped>\n    .dataframe tbody tr th:only-of-type {\n        vertical-align: middle;\n    }\n\n    .dataframe tbody tr th {\n        vertical-align: top;\n    }\n\n    .dataframe thead th {\n        text-align: right;\n    }\n</style>\n<table border=\"1\" class=\"dataframe\">\n  <thead>\n    <tr style=\"text-align: right;\">\n      <th></th>\n      <th>Player</th>\n      <th>Pos</th>\n      <th>Team</th>\n      <th>Num</th>\n      <th>Height</th>\n      <th>Weight</th>\n      <th>DOB</th>\n    </tr>\n  </thead>\n  <tbody>\n    <tr>\n      <th>0</th>\n      <td>Noel Acciari</td>\n      <td>C</td>\n      <td>PIT</td>\n      <td>55</td>\n      <td>1.7780</td>\n      <td>209 lbs</td>\n      <td>12/1/91</td>\n    </tr>\n    <tr>\n      <th>1</th>\n      <td>Calen Addison</td>\n      <td>D</td>\n      <td>MIN</td>\n      <td>2</td>\n      <td>1.8034</td>\n      <td>173 lbs</td>\n      <td>4/11/00</td>\n    </tr>\n    <tr>\n      <th>2</th>\n      <td>Sebastian Aho</td>\n      <td>C</td>\n      <td>CAR</td>\n      <td>20</td>\n      <td>1.8288</td>\n      <td>176 lbs</td>\n      <td>7/26/97</td>\n    </tr>\n    <tr>\n      <th>3</th>\n      <td>Sebastian Aho</td>\n      <td>D</td>\n      <td>NYI</td>\n      <td>25</td>\n      <td>1.7780</td>\n      <td>180 lbs</td>\n      <td>2/17/96</td>\n    </tr>\n    <tr>\n      <th>4</th>\n      <td>Nikita Alexandrov</td>\n      <td>C</td>\n      <td>STL</td>\n      <td>59</td>\n      <td>1.8542</td>\n      <td>177 lbs</td>\n      <td>9/16/00</td>\n    </tr>\n    <tr>\n      <th>...</th>\n      <td>...</td>\n      <td>...</td>\n      <td>...</td>\n      <td>...</td>\n      <td>...</td>\n      <td>...</td>\n      <td>...</td>\n    </tr>\n    <tr>\n      <th>778</th>\n      <td>Mika Zibanejad</td>\n      <td>C</td>\n      <td>NYR</td>\n      <td>93</td>\n      <td>1.8796</td>\n      <td>201 lbs</td>\n      <td>4/18/93</td>\n    </tr>\n    <tr>\n      <th>779</th>\n      <td>Radim Zohorna</td>\n      <td>LW</td>\n      <td>PIT</td>\n      <td>63</td>\n      <td>1.9812</td>\n      <td>220 lbs</td>\n      <td>4/29/96</td>\n    </tr>\n    <tr>\n      <th>780</th>\n      <td>Artem Zub</td>\n      <td>D</td>\n      <td>OTT</td>\n      <td>2</td>\n      <td>1.8796</td>\n      <td>200 lbs</td>\n      <td>10/3/95</td>\n    </tr>\n    <tr>\n      <th>781</th>\n      <td>Mats Zuccarello</td>\n      <td>RW</td>\n      <td>MIN</td>\n      <td>36</td>\n      <td>1.7272</td>\n      <td>181 lbs</td>\n      <td>9/1/87</td>\n    </tr>\n    <tr>\n      <th>782</th>\n      <td>Jason Zucker</td>\n      <td>LW</td>\n      <td>ARI</td>\n      <td>16</td>\n      <td>1.8034</td>\n      <td>192 lbs</td>\n      <td>1/16/92</td>\n    </tr>\n  </tbody>\n</table>\n<p>783 rows × 7 columns</p>\n</div>"
     },
     "execution_count": 22,
     "metadata": {},
     "output_type": "execute_result"
    }
   ],
   "source": [
    "# Apply the custom function to the \"Height\" column\n",
    "concatenated_df[\"Height\"] = concatenated_df[\"Height\"].apply(height_to_meters)\n",
    "concatenated_df"
   ],
   "metadata": {
    "collapsed": false,
    "ExecuteTime": {
     "end_time": "2023-10-27T13:35:53.570538500Z",
     "start_time": "2023-10-27T13:35:53.549533700Z"
    }
   }
  },
  {
   "cell_type": "code",
   "execution_count": 23,
   "outputs": [],
   "source": [
    "# Define a custom function to convert the weight to kilograms\n",
    "def weight_to_kg(weight):\n",
    "    \"\"\"\n",
    "    Convert a weight string in the format 'X lbs' to kilograms.\n",
    "    1 pound (lbs) = 0.453592 kilograms.\n",
    "\n",
    "    Parameters:\n",
    "        weight (str): The weight string in 'X lbs' format.\n",
    "\n",
    "    Returns:\n",
    "        float: The weight in kilograms, or None if the input format is incorrect.\n",
    "    \"\"\"\n",
    "    # Extract the numeric part and convert it to an integer\n",
    "    numeric_part = ''.join(filter(str.isdigit, weight))\n",
    "    if numeric_part:\n",
    "        total_kg = int(numeric_part) * 0.453592\n",
    "        return total_kg\n",
    "    else:\n",
    "        return None"
   ],
   "metadata": {
    "collapsed": false,
    "ExecuteTime": {
     "end_time": "2023-10-27T13:35:56.538152Z",
     "start_time": "2023-10-27T13:35:56.520138400Z"
    }
   }
  },
  {
   "cell_type": "code",
   "execution_count": 24,
   "outputs": [
    {
     "data": {
      "text/plain": "                Player Pos Team Num  Height     Weight      DOB\n0         Noel Acciari   C  PIT  55  1.7780  94.800728  12/1/91\n1        Calen Addison   D  MIN   2  1.8034  78.471416  4/11/00\n2        Sebastian Aho   C  CAR  20  1.8288  79.832192  7/26/97\n3        Sebastian Aho   D  NYI  25  1.7780  81.646560  2/17/96\n4    Nikita Alexandrov   C  STL  59  1.8542  80.285784  9/16/00\n..                 ...  ..  ...  ..     ...        ...      ...\n778     Mika Zibanejad   C  NYR  93  1.8796  91.171992  4/18/93\n779      Radim Zohorna  LW  PIT  63  1.9812  99.790240  4/29/96\n780          Artem Zub   D  OTT   2  1.8796  90.718400  10/3/95\n781    Mats Zuccarello  RW  MIN  36  1.7272  82.100152   9/1/87\n782       Jason Zucker  LW  ARI  16  1.8034  87.089664  1/16/92\n\n[783 rows x 7 columns]",
      "text/html": "<div>\n<style scoped>\n    .dataframe tbody tr th:only-of-type {\n        vertical-align: middle;\n    }\n\n    .dataframe tbody tr th {\n        vertical-align: top;\n    }\n\n    .dataframe thead th {\n        text-align: right;\n    }\n</style>\n<table border=\"1\" class=\"dataframe\">\n  <thead>\n    <tr style=\"text-align: right;\">\n      <th></th>\n      <th>Player</th>\n      <th>Pos</th>\n      <th>Team</th>\n      <th>Num</th>\n      <th>Height</th>\n      <th>Weight</th>\n      <th>DOB</th>\n    </tr>\n  </thead>\n  <tbody>\n    <tr>\n      <th>0</th>\n      <td>Noel Acciari</td>\n      <td>C</td>\n      <td>PIT</td>\n      <td>55</td>\n      <td>1.7780</td>\n      <td>94.800728</td>\n      <td>12/1/91</td>\n    </tr>\n    <tr>\n      <th>1</th>\n      <td>Calen Addison</td>\n      <td>D</td>\n      <td>MIN</td>\n      <td>2</td>\n      <td>1.8034</td>\n      <td>78.471416</td>\n      <td>4/11/00</td>\n    </tr>\n    <tr>\n      <th>2</th>\n      <td>Sebastian Aho</td>\n      <td>C</td>\n      <td>CAR</td>\n      <td>20</td>\n      <td>1.8288</td>\n      <td>79.832192</td>\n      <td>7/26/97</td>\n    </tr>\n    <tr>\n      <th>3</th>\n      <td>Sebastian Aho</td>\n      <td>D</td>\n      <td>NYI</td>\n      <td>25</td>\n      <td>1.7780</td>\n      <td>81.646560</td>\n      <td>2/17/96</td>\n    </tr>\n    <tr>\n      <th>4</th>\n      <td>Nikita Alexandrov</td>\n      <td>C</td>\n      <td>STL</td>\n      <td>59</td>\n      <td>1.8542</td>\n      <td>80.285784</td>\n      <td>9/16/00</td>\n    </tr>\n    <tr>\n      <th>...</th>\n      <td>...</td>\n      <td>...</td>\n      <td>...</td>\n      <td>...</td>\n      <td>...</td>\n      <td>...</td>\n      <td>...</td>\n    </tr>\n    <tr>\n      <th>778</th>\n      <td>Mika Zibanejad</td>\n      <td>C</td>\n      <td>NYR</td>\n      <td>93</td>\n      <td>1.8796</td>\n      <td>91.171992</td>\n      <td>4/18/93</td>\n    </tr>\n    <tr>\n      <th>779</th>\n      <td>Radim Zohorna</td>\n      <td>LW</td>\n      <td>PIT</td>\n      <td>63</td>\n      <td>1.9812</td>\n      <td>99.790240</td>\n      <td>4/29/96</td>\n    </tr>\n    <tr>\n      <th>780</th>\n      <td>Artem Zub</td>\n      <td>D</td>\n      <td>OTT</td>\n      <td>2</td>\n      <td>1.8796</td>\n      <td>90.718400</td>\n      <td>10/3/95</td>\n    </tr>\n    <tr>\n      <th>781</th>\n      <td>Mats Zuccarello</td>\n      <td>RW</td>\n      <td>MIN</td>\n      <td>36</td>\n      <td>1.7272</td>\n      <td>82.100152</td>\n      <td>9/1/87</td>\n    </tr>\n    <tr>\n      <th>782</th>\n      <td>Jason Zucker</td>\n      <td>LW</td>\n      <td>ARI</td>\n      <td>16</td>\n      <td>1.8034</td>\n      <td>87.089664</td>\n      <td>1/16/92</td>\n    </tr>\n  </tbody>\n</table>\n<p>783 rows × 7 columns</p>\n</div>"
     },
     "execution_count": 24,
     "metadata": {},
     "output_type": "execute_result"
    }
   ],
   "source": [
    "# Apply the custom function to the \"Weight\" column\n",
    "concatenated_df[\"Weight\"] = concatenated_df[\"Weight\"].apply(weight_to_kg)\n",
    "concatenated_df"
   ],
   "metadata": {
    "collapsed": false,
    "ExecuteTime": {
     "end_time": "2023-10-27T13:35:57.787171300Z",
     "start_time": "2023-10-27T13:35:57.758166800Z"
    }
   }
  },
  {
   "cell_type": "code",
   "execution_count": 25,
   "outputs": [],
   "source": [
    "concatenated_df.to_csv('PlayerInfo.csv', encoding='utf-8', index=False)"
   ],
   "metadata": {
    "collapsed": false,
    "ExecuteTime": {
     "end_time": "2023-10-27T13:36:58.399156600Z",
     "start_time": "2023-10-27T13:36:58.376152100Z"
    }
   }
  },
  {
   "cell_type": "code",
   "execution_count": 26,
   "outputs": [],
   "source": [
    "df_2023 = pd.read_csv('IceHockey2023.csv')\n",
    "df_salaries = pd.read_csv('Player2024Salary.csv')\n",
    "df_player = pd.read_csv('PlayerInfo.csv')"
   ],
   "metadata": {
    "collapsed": false,
    "ExecuteTime": {
     "end_time": "2023-10-27T13:36:59.852532Z",
     "start_time": "2023-10-27T13:36:59.829526800Z"
    }
   }
  },
  {
   "cell_type": "code",
   "execution_count": 27,
   "outputs": [
    {
     "data": {
      "text/plain": "               Player Team  GP   G   A  Pts  +/-  PN  PIM    S  SB  MS    H  \\\n0    Jake Livingstone  NSH   5   0   1    1   -2   1    2    3   4   2    6   \n1     Philip Tomasino  NSH  31   5  13   18    5   3    6   53  21  26   28   \n2    Luke Evangelista  NSH  24   7   8   15    7   3    6   54  17   7    9   \n3    Spencer Stastney  NSH   8   0   2    2    4   1    2    9   3   2    2   \n4         Tommy Novak  NSH  42  13  24   37    4   3    6   71  32  27    6   \n..                ...  ...  ..  ..  ..  ...  ...  ..  ...  ...  ..  ..  ...   \n954   Mikael Granlund  NSH  79  10  32   42  -15  10   20  121  51  51   78   \n955    Filip Forsberg  NSH  50  19  23   42   -3  10   20  157  81  84   86   \n956    Colton Sissons  NSH  82  12  18   30   -3  10   20   88  43  48  164   \n957      Yakov Trenin  NSH  77  12  12   24   -7  18   47  140  52  64  167   \n958    Steven Lorentz  S.J  80  10   9   19  -17   7   16  112  40  41  133   \n\n     GV  TK  BS   FW   FL     F%  Year  \n0     3   0  12    0    0   0.00  2023  \n1    15  10  16    9    8  52.94  2023  \n2     9  15   6    0    0   0.00  2023  \n3     3   2   9    0    0   0.00  2023  \n4    13  24  21  161  181  47.08  2023  \n..   ..  ..  ..  ...  ...    ...   ...  \n954  33  38  61  171  213  44.53  2023  \n955  29  34  20    0    1   0.00  2023  \n956  27  32  72  591  516  53.39  2023  \n957  43  44  30   14   22  38.89  2023  \n958  15  46  46  262  284  47.99  2023  \n\n[959 rows x 20 columns]",
      "text/html": "<div>\n<style scoped>\n    .dataframe tbody tr th:only-of-type {\n        vertical-align: middle;\n    }\n\n    .dataframe tbody tr th {\n        vertical-align: top;\n    }\n\n    .dataframe thead th {\n        text-align: right;\n    }\n</style>\n<table border=\"1\" class=\"dataframe\">\n  <thead>\n    <tr style=\"text-align: right;\">\n      <th></th>\n      <th>Player</th>\n      <th>Team</th>\n      <th>GP</th>\n      <th>G</th>\n      <th>A</th>\n      <th>Pts</th>\n      <th>+/-</th>\n      <th>PN</th>\n      <th>PIM</th>\n      <th>S</th>\n      <th>SB</th>\n      <th>MS</th>\n      <th>H</th>\n      <th>GV</th>\n      <th>TK</th>\n      <th>BS</th>\n      <th>FW</th>\n      <th>FL</th>\n      <th>F%</th>\n      <th>Year</th>\n    </tr>\n  </thead>\n  <tbody>\n    <tr>\n      <th>0</th>\n      <td>Jake Livingstone</td>\n      <td>NSH</td>\n      <td>5</td>\n      <td>0</td>\n      <td>1</td>\n      <td>1</td>\n      <td>-2</td>\n      <td>1</td>\n      <td>2</td>\n      <td>3</td>\n      <td>4</td>\n      <td>2</td>\n      <td>6</td>\n      <td>3</td>\n      <td>0</td>\n      <td>12</td>\n      <td>0</td>\n      <td>0</td>\n      <td>0.00</td>\n      <td>2023</td>\n    </tr>\n    <tr>\n      <th>1</th>\n      <td>Philip Tomasino</td>\n      <td>NSH</td>\n      <td>31</td>\n      <td>5</td>\n      <td>13</td>\n      <td>18</td>\n      <td>5</td>\n      <td>3</td>\n      <td>6</td>\n      <td>53</td>\n      <td>21</td>\n      <td>26</td>\n      <td>28</td>\n      <td>15</td>\n      <td>10</td>\n      <td>16</td>\n      <td>9</td>\n      <td>8</td>\n      <td>52.94</td>\n      <td>2023</td>\n    </tr>\n    <tr>\n      <th>2</th>\n      <td>Luke Evangelista</td>\n      <td>NSH</td>\n      <td>24</td>\n      <td>7</td>\n      <td>8</td>\n      <td>15</td>\n      <td>7</td>\n      <td>3</td>\n      <td>6</td>\n      <td>54</td>\n      <td>17</td>\n      <td>7</td>\n      <td>9</td>\n      <td>9</td>\n      <td>15</td>\n      <td>6</td>\n      <td>0</td>\n      <td>0</td>\n      <td>0.00</td>\n      <td>2023</td>\n    </tr>\n    <tr>\n      <th>3</th>\n      <td>Spencer Stastney</td>\n      <td>NSH</td>\n      <td>8</td>\n      <td>0</td>\n      <td>2</td>\n      <td>2</td>\n      <td>4</td>\n      <td>1</td>\n      <td>2</td>\n      <td>9</td>\n      <td>3</td>\n      <td>2</td>\n      <td>2</td>\n      <td>3</td>\n      <td>2</td>\n      <td>9</td>\n      <td>0</td>\n      <td>0</td>\n      <td>0.00</td>\n      <td>2023</td>\n    </tr>\n    <tr>\n      <th>4</th>\n      <td>Tommy Novak</td>\n      <td>NSH</td>\n      <td>42</td>\n      <td>13</td>\n      <td>24</td>\n      <td>37</td>\n      <td>4</td>\n      <td>3</td>\n      <td>6</td>\n      <td>71</td>\n      <td>32</td>\n      <td>27</td>\n      <td>6</td>\n      <td>13</td>\n      <td>24</td>\n      <td>21</td>\n      <td>161</td>\n      <td>181</td>\n      <td>47.08</td>\n      <td>2023</td>\n    </tr>\n    <tr>\n      <th>...</th>\n      <td>...</td>\n      <td>...</td>\n      <td>...</td>\n      <td>...</td>\n      <td>...</td>\n      <td>...</td>\n      <td>...</td>\n      <td>...</td>\n      <td>...</td>\n      <td>...</td>\n      <td>...</td>\n      <td>...</td>\n      <td>...</td>\n      <td>...</td>\n      <td>...</td>\n      <td>...</td>\n      <td>...</td>\n      <td>...</td>\n      <td>...</td>\n      <td>...</td>\n    </tr>\n    <tr>\n      <th>954</th>\n      <td>Mikael Granlund</td>\n      <td>NSH</td>\n      <td>79</td>\n      <td>10</td>\n      <td>32</td>\n      <td>42</td>\n      <td>-15</td>\n      <td>10</td>\n      <td>20</td>\n      <td>121</td>\n      <td>51</td>\n      <td>51</td>\n      <td>78</td>\n      <td>33</td>\n      <td>38</td>\n      <td>61</td>\n      <td>171</td>\n      <td>213</td>\n      <td>44.53</td>\n      <td>2023</td>\n    </tr>\n    <tr>\n      <th>955</th>\n      <td>Filip Forsberg</td>\n      <td>NSH</td>\n      <td>50</td>\n      <td>19</td>\n      <td>23</td>\n      <td>42</td>\n      <td>-3</td>\n      <td>10</td>\n      <td>20</td>\n      <td>157</td>\n      <td>81</td>\n      <td>84</td>\n      <td>86</td>\n      <td>29</td>\n      <td>34</td>\n      <td>20</td>\n      <td>0</td>\n      <td>1</td>\n      <td>0.00</td>\n      <td>2023</td>\n    </tr>\n    <tr>\n      <th>956</th>\n      <td>Colton Sissons</td>\n      <td>NSH</td>\n      <td>82</td>\n      <td>12</td>\n      <td>18</td>\n      <td>30</td>\n      <td>-3</td>\n      <td>10</td>\n      <td>20</td>\n      <td>88</td>\n      <td>43</td>\n      <td>48</td>\n      <td>164</td>\n      <td>27</td>\n      <td>32</td>\n      <td>72</td>\n      <td>591</td>\n      <td>516</td>\n      <td>53.39</td>\n      <td>2023</td>\n    </tr>\n    <tr>\n      <th>957</th>\n      <td>Yakov Trenin</td>\n      <td>NSH</td>\n      <td>77</td>\n      <td>12</td>\n      <td>12</td>\n      <td>24</td>\n      <td>-7</td>\n      <td>18</td>\n      <td>47</td>\n      <td>140</td>\n      <td>52</td>\n      <td>64</td>\n      <td>167</td>\n      <td>43</td>\n      <td>44</td>\n      <td>30</td>\n      <td>14</td>\n      <td>22</td>\n      <td>38.89</td>\n      <td>2023</td>\n    </tr>\n    <tr>\n      <th>958</th>\n      <td>Steven Lorentz</td>\n      <td>S.J</td>\n      <td>80</td>\n      <td>10</td>\n      <td>9</td>\n      <td>19</td>\n      <td>-17</td>\n      <td>7</td>\n      <td>16</td>\n      <td>112</td>\n      <td>40</td>\n      <td>41</td>\n      <td>133</td>\n      <td>15</td>\n      <td>46</td>\n      <td>46</td>\n      <td>262</td>\n      <td>284</td>\n      <td>47.99</td>\n      <td>2023</td>\n    </tr>\n  </tbody>\n</table>\n<p>959 rows × 20 columns</p>\n</div>"
     },
     "execution_count": 27,
     "metadata": {},
     "output_type": "execute_result"
    }
   ],
   "source": [
    "df_2023"
   ],
   "metadata": {
    "collapsed": false,
    "ExecuteTime": {
     "end_time": "2023-10-27T13:37:01.026338Z",
     "start_time": "2023-10-27T13:37:00.992332Z"
    }
   }
  },
  {
   "cell_type": "code",
   "execution_count": 28,
   "outputs": [
    {
     "data": {
      "text/plain": "                    Player Team    GP     G     A   Pts  +/-   PN  PIM     S  \\\n0         Jake Livingstone  NSH   5.0   0.0   1.0   1.0 -2.0  1.0  2.0   3.0   \n1          Philip Tomasino  NSH  31.0   5.0  13.0  18.0  5.0  3.0  6.0  53.0   \n2         Luke Evangelista  NSH  24.0   7.0   8.0  15.0  7.0  3.0  6.0  54.0   \n3         Spencer Stastney  NSH   8.0   0.0   2.0   2.0  4.0  1.0  2.0   9.0   \n4              Tommy Novak  NSH  42.0  13.0  24.0  37.0  4.0  3.0  6.0  71.0   \n...                    ...  ...   ...   ...   ...   ...  ...  ...  ...   ...   \n1309      William Lockwood  NaN   NaN   NaN   NaN   NaN  NaN  NaN  NaN   NaN   \n1310  Oliver Ekman-Larsson  NaN   NaN   NaN   NaN   NaN  NaN  NaN  NaN   NaN   \n1311        Uvis Balinskis  NaN   NaN   NaN   NaN   NaN  NaN  NaN  NaN   NaN   \n1312          Cuylle, Will  NaN   NaN   NaN   NaN   NaN  NaN  NaN  NaN   NaN   \n1313             Greer, AJ  NaN   NaN   NaN   NaN   NaN  NaN  NaN  NaN   NaN   \n\n      ...    TK    BS     FW     FL     F%    Year   Tm   Salary    Cap Hit  \\\n0     ...   0.0  12.0    0.0    0.0   0.00  2023.0  NaN      NaN        NaN   \n1     ...  10.0  16.0    9.0    8.0  52.94  2023.0  NSH  832,500    863,333   \n2     ...  15.0   6.0    0.0    0.0   0.00  2023.0  NSH  775,000    797,500   \n3     ...   2.0   9.0    0.0    0.0   0.00  2023.0  NaN      NaN        NaN   \n4     ...  24.0  21.0  161.0  181.0  47.08  2023.0  NaN      NaN        NaN   \n...   ...   ...   ...    ...    ...    ...     ...  ...      ...        ...   \n1309  ...   NaN   NaN    NaN    NaN    NaN     NaN  FLA  775,000    775,000   \n1310  ...   NaN   NaN    NaN    NaN    NaN     NaN  FLA  775,000  2,250,000   \n1311  ...   NaN   NaN    NaN    NaN    NaN     NaN  FLA  775,000    870,000   \n1312  ...   NaN   NaN    NaN    NaN    NaN     NaN  NYR  775,000    828,333   \n1313  ...   NaN   NaN    NaN    NaN    NaN     NaN  CGY  775,000    762,500   \n\n          _merge  \n0      left_only  \n1           both  \n2           both  \n3      left_only  \n4      left_only  \n...          ...  \n1309  right_only  \n1310  right_only  \n1311  right_only  \n1312  right_only  \n1313  right_only  \n\n[1314 rows x 24 columns]",
      "text/html": "<div>\n<style scoped>\n    .dataframe tbody tr th:only-of-type {\n        vertical-align: middle;\n    }\n\n    .dataframe tbody tr th {\n        vertical-align: top;\n    }\n\n    .dataframe thead th {\n        text-align: right;\n    }\n</style>\n<table border=\"1\" class=\"dataframe\">\n  <thead>\n    <tr style=\"text-align: right;\">\n      <th></th>\n      <th>Player</th>\n      <th>Team</th>\n      <th>GP</th>\n      <th>G</th>\n      <th>A</th>\n      <th>Pts</th>\n      <th>+/-</th>\n      <th>PN</th>\n      <th>PIM</th>\n      <th>S</th>\n      <th>...</th>\n      <th>TK</th>\n      <th>BS</th>\n      <th>FW</th>\n      <th>FL</th>\n      <th>F%</th>\n      <th>Year</th>\n      <th>Tm</th>\n      <th>Salary</th>\n      <th>Cap Hit</th>\n      <th>_merge</th>\n    </tr>\n  </thead>\n  <tbody>\n    <tr>\n      <th>0</th>\n      <td>Jake Livingstone</td>\n      <td>NSH</td>\n      <td>5.0</td>\n      <td>0.0</td>\n      <td>1.0</td>\n      <td>1.0</td>\n      <td>-2.0</td>\n      <td>1.0</td>\n      <td>2.0</td>\n      <td>3.0</td>\n      <td>...</td>\n      <td>0.0</td>\n      <td>12.0</td>\n      <td>0.0</td>\n      <td>0.0</td>\n      <td>0.00</td>\n      <td>2023.0</td>\n      <td>NaN</td>\n      <td>NaN</td>\n      <td>NaN</td>\n      <td>left_only</td>\n    </tr>\n    <tr>\n      <th>1</th>\n      <td>Philip Tomasino</td>\n      <td>NSH</td>\n      <td>31.0</td>\n      <td>5.0</td>\n      <td>13.0</td>\n      <td>18.0</td>\n      <td>5.0</td>\n      <td>3.0</td>\n      <td>6.0</td>\n      <td>53.0</td>\n      <td>...</td>\n      <td>10.0</td>\n      <td>16.0</td>\n      <td>9.0</td>\n      <td>8.0</td>\n      <td>52.94</td>\n      <td>2023.0</td>\n      <td>NSH</td>\n      <td>832,500</td>\n      <td>863,333</td>\n      <td>both</td>\n    </tr>\n    <tr>\n      <th>2</th>\n      <td>Luke Evangelista</td>\n      <td>NSH</td>\n      <td>24.0</td>\n      <td>7.0</td>\n      <td>8.0</td>\n      <td>15.0</td>\n      <td>7.0</td>\n      <td>3.0</td>\n      <td>6.0</td>\n      <td>54.0</td>\n      <td>...</td>\n      <td>15.0</td>\n      <td>6.0</td>\n      <td>0.0</td>\n      <td>0.0</td>\n      <td>0.00</td>\n      <td>2023.0</td>\n      <td>NSH</td>\n      <td>775,000</td>\n      <td>797,500</td>\n      <td>both</td>\n    </tr>\n    <tr>\n      <th>3</th>\n      <td>Spencer Stastney</td>\n      <td>NSH</td>\n      <td>8.0</td>\n      <td>0.0</td>\n      <td>2.0</td>\n      <td>2.0</td>\n      <td>4.0</td>\n      <td>1.0</td>\n      <td>2.0</td>\n      <td>9.0</td>\n      <td>...</td>\n      <td>2.0</td>\n      <td>9.0</td>\n      <td>0.0</td>\n      <td>0.0</td>\n      <td>0.00</td>\n      <td>2023.0</td>\n      <td>NaN</td>\n      <td>NaN</td>\n      <td>NaN</td>\n      <td>left_only</td>\n    </tr>\n    <tr>\n      <th>4</th>\n      <td>Tommy Novak</td>\n      <td>NSH</td>\n      <td>42.0</td>\n      <td>13.0</td>\n      <td>24.0</td>\n      <td>37.0</td>\n      <td>4.0</td>\n      <td>3.0</td>\n      <td>6.0</td>\n      <td>71.0</td>\n      <td>...</td>\n      <td>24.0</td>\n      <td>21.0</td>\n      <td>161.0</td>\n      <td>181.0</td>\n      <td>47.08</td>\n      <td>2023.0</td>\n      <td>NaN</td>\n      <td>NaN</td>\n      <td>NaN</td>\n      <td>left_only</td>\n    </tr>\n    <tr>\n      <th>...</th>\n      <td>...</td>\n      <td>...</td>\n      <td>...</td>\n      <td>...</td>\n      <td>...</td>\n      <td>...</td>\n      <td>...</td>\n      <td>...</td>\n      <td>...</td>\n      <td>...</td>\n      <td>...</td>\n      <td>...</td>\n      <td>...</td>\n      <td>...</td>\n      <td>...</td>\n      <td>...</td>\n      <td>...</td>\n      <td>...</td>\n      <td>...</td>\n      <td>...</td>\n      <td>...</td>\n    </tr>\n    <tr>\n      <th>1309</th>\n      <td>William Lockwood</td>\n      <td>NaN</td>\n      <td>NaN</td>\n      <td>NaN</td>\n      <td>NaN</td>\n      <td>NaN</td>\n      <td>NaN</td>\n      <td>NaN</td>\n      <td>NaN</td>\n      <td>NaN</td>\n      <td>...</td>\n      <td>NaN</td>\n      <td>NaN</td>\n      <td>NaN</td>\n      <td>NaN</td>\n      <td>NaN</td>\n      <td>NaN</td>\n      <td>FLA</td>\n      <td>775,000</td>\n      <td>775,000</td>\n      <td>right_only</td>\n    </tr>\n    <tr>\n      <th>1310</th>\n      <td>Oliver Ekman-Larsson</td>\n      <td>NaN</td>\n      <td>NaN</td>\n      <td>NaN</td>\n      <td>NaN</td>\n      <td>NaN</td>\n      <td>NaN</td>\n      <td>NaN</td>\n      <td>NaN</td>\n      <td>NaN</td>\n      <td>...</td>\n      <td>NaN</td>\n      <td>NaN</td>\n      <td>NaN</td>\n      <td>NaN</td>\n      <td>NaN</td>\n      <td>NaN</td>\n      <td>FLA</td>\n      <td>775,000</td>\n      <td>2,250,000</td>\n      <td>right_only</td>\n    </tr>\n    <tr>\n      <th>1311</th>\n      <td>Uvis Balinskis</td>\n      <td>NaN</td>\n      <td>NaN</td>\n      <td>NaN</td>\n      <td>NaN</td>\n      <td>NaN</td>\n      <td>NaN</td>\n      <td>NaN</td>\n      <td>NaN</td>\n      <td>NaN</td>\n      <td>...</td>\n      <td>NaN</td>\n      <td>NaN</td>\n      <td>NaN</td>\n      <td>NaN</td>\n      <td>NaN</td>\n      <td>NaN</td>\n      <td>FLA</td>\n      <td>775,000</td>\n      <td>870,000</td>\n      <td>right_only</td>\n    </tr>\n    <tr>\n      <th>1312</th>\n      <td>Cuylle, Will</td>\n      <td>NaN</td>\n      <td>NaN</td>\n      <td>NaN</td>\n      <td>NaN</td>\n      <td>NaN</td>\n      <td>NaN</td>\n      <td>NaN</td>\n      <td>NaN</td>\n      <td>NaN</td>\n      <td>...</td>\n      <td>NaN</td>\n      <td>NaN</td>\n      <td>NaN</td>\n      <td>NaN</td>\n      <td>NaN</td>\n      <td>NaN</td>\n      <td>NYR</td>\n      <td>775,000</td>\n      <td>828,333</td>\n      <td>right_only</td>\n    </tr>\n    <tr>\n      <th>1313</th>\n      <td>Greer, AJ</td>\n      <td>NaN</td>\n      <td>NaN</td>\n      <td>NaN</td>\n      <td>NaN</td>\n      <td>NaN</td>\n      <td>NaN</td>\n      <td>NaN</td>\n      <td>NaN</td>\n      <td>NaN</td>\n      <td>...</td>\n      <td>NaN</td>\n      <td>NaN</td>\n      <td>NaN</td>\n      <td>NaN</td>\n      <td>NaN</td>\n      <td>NaN</td>\n      <td>CGY</td>\n      <td>775,000</td>\n      <td>762,500</td>\n      <td>right_only</td>\n    </tr>\n  </tbody>\n</table>\n<p>1314 rows × 24 columns</p>\n</div>"
     },
     "execution_count": 28,
     "metadata": {},
     "output_type": "execute_result"
    }
   ],
   "source": [
    "# The merge table\n",
    "merged_df = pd.merge(df_2023, df_salaries.drop(columns=['Year']), left_on=[\"Player\", \"Team\"], right_on=[\"Player\", \"Tm\"], how=\"outer\", indicator=True)\n",
    "\n",
    "merged_df"
   ],
   "metadata": {
    "collapsed": false,
    "ExecuteTime": {
     "end_time": "2023-10-27T13:37:02.462129100Z",
     "start_time": "2023-10-27T13:37:02.414108400Z"
    }
   }
  },
  {
   "cell_type": "code",
   "execution_count": 29,
   "outputs": [
    {
     "data": {
      "text/plain": "left_only     610\nright_only    355\nboth          349\nName: _merge, dtype: int64"
     },
     "execution_count": 29,
     "metadata": {},
     "output_type": "execute_result"
    }
   ],
   "source": [
    "merged_df['_merge'].value_counts()"
   ],
   "metadata": {
    "collapsed": false,
    "ExecuteTime": {
     "end_time": "2023-10-27T13:37:05.436945200Z",
     "start_time": "2023-10-27T13:37:05.414932600Z"
    }
   }
  },
  {
   "cell_type": "code",
   "execution_count": 30,
   "outputs": [
    {
     "data": {
      "text/plain": "                    Player Team  GP   G   A  Pts  +/-  PN  PIM    S  ...  GV  \\\n0          Philip Tomasino  NSH  31   5  13   18    5   3    6   53  ...  15   \n1         Luke Evangelista  NSH  24   7   8   15    7   3    6   54  ...   9   \n2    Benoit-Olivier Groulx  ANA   2   0   0    0    0   0    0    2  ...   3   \n3              Brock Faber  MIN   2   0   0    0    2   0    0    1  ...   1   \n4            Matthew Knies  TOR   3   0   1    1    1   1    2    4  ...   1   \n..                     ...  ...  ..  ..  ..  ...  ...  ..  ...  ...  ...  ..   \n344        Kiefer Sherwood  NSH  33   7   6   13    4  12   30   57  ...  14   \n345          Ryan McDonagh  NSH  71   2  18   20   12  11   22   78  ...  59   \n346         Filip Forsberg  NSH  50  19  23   42   -3  10   20  157  ...  29   \n347         Colton Sissons  NSH  82  12  18   30   -3  10   20   88  ...  27   \n348           Yakov Trenin  NSH  77  12  12   24   -7  18   47  140  ...  43   \n\n     TK   BS   FW   FL     F%  Year      Salary    Cap Hit  _merge  \n0    10   16    9    8  52.94  2023     832,500    863,333    both  \n1    15    6    0    0   0.00  2023     775,000    797,500    both  \n2     2    0    9   11  45.00  2023     775,000    775,000    both  \n3     1    9    0    0   0.00  2023     832,500    925,000    both  \n4     3    2    0    0   0.00  2023     832,500    925,000    both  \n..   ..  ...  ...  ...    ...   ...         ...        ...     ...  \n344  17   15    6    4  60.00  2023     775,000    775,000    both  \n345  47  162    0    0   0.00  2023   8,400,000  6,750,000    both  \n346  34   20    0    1   0.00  2023  10,000,000  8,500,000    both  \n347  32   72  591  516  53.39  2023   3,500,000  2,857,143    both  \n348  44   30   14   22  38.89  2023   1,700,000  1,700,000    both  \n\n[349 rows x 23 columns]",
      "text/html": "<div>\n<style scoped>\n    .dataframe tbody tr th:only-of-type {\n        vertical-align: middle;\n    }\n\n    .dataframe tbody tr th {\n        vertical-align: top;\n    }\n\n    .dataframe thead th {\n        text-align: right;\n    }\n</style>\n<table border=\"1\" class=\"dataframe\">\n  <thead>\n    <tr style=\"text-align: right;\">\n      <th></th>\n      <th>Player</th>\n      <th>Team</th>\n      <th>GP</th>\n      <th>G</th>\n      <th>A</th>\n      <th>Pts</th>\n      <th>+/-</th>\n      <th>PN</th>\n      <th>PIM</th>\n      <th>S</th>\n      <th>...</th>\n      <th>GV</th>\n      <th>TK</th>\n      <th>BS</th>\n      <th>FW</th>\n      <th>FL</th>\n      <th>F%</th>\n      <th>Year</th>\n      <th>Salary</th>\n      <th>Cap Hit</th>\n      <th>_merge</th>\n    </tr>\n  </thead>\n  <tbody>\n    <tr>\n      <th>0</th>\n      <td>Philip Tomasino</td>\n      <td>NSH</td>\n      <td>31</td>\n      <td>5</td>\n      <td>13</td>\n      <td>18</td>\n      <td>5</td>\n      <td>3</td>\n      <td>6</td>\n      <td>53</td>\n      <td>...</td>\n      <td>15</td>\n      <td>10</td>\n      <td>16</td>\n      <td>9</td>\n      <td>8</td>\n      <td>52.94</td>\n      <td>2023</td>\n      <td>832,500</td>\n      <td>863,333</td>\n      <td>both</td>\n    </tr>\n    <tr>\n      <th>1</th>\n      <td>Luke Evangelista</td>\n      <td>NSH</td>\n      <td>24</td>\n      <td>7</td>\n      <td>8</td>\n      <td>15</td>\n      <td>7</td>\n      <td>3</td>\n      <td>6</td>\n      <td>54</td>\n      <td>...</td>\n      <td>9</td>\n      <td>15</td>\n      <td>6</td>\n      <td>0</td>\n      <td>0</td>\n      <td>0.00</td>\n      <td>2023</td>\n      <td>775,000</td>\n      <td>797,500</td>\n      <td>both</td>\n    </tr>\n    <tr>\n      <th>2</th>\n      <td>Benoit-Olivier Groulx</td>\n      <td>ANA</td>\n      <td>2</td>\n      <td>0</td>\n      <td>0</td>\n      <td>0</td>\n      <td>0</td>\n      <td>0</td>\n      <td>0</td>\n      <td>2</td>\n      <td>...</td>\n      <td>3</td>\n      <td>2</td>\n      <td>0</td>\n      <td>9</td>\n      <td>11</td>\n      <td>45.00</td>\n      <td>2023</td>\n      <td>775,000</td>\n      <td>775,000</td>\n      <td>both</td>\n    </tr>\n    <tr>\n      <th>3</th>\n      <td>Brock Faber</td>\n      <td>MIN</td>\n      <td>2</td>\n      <td>0</td>\n      <td>0</td>\n      <td>0</td>\n      <td>2</td>\n      <td>0</td>\n      <td>0</td>\n      <td>1</td>\n      <td>...</td>\n      <td>1</td>\n      <td>1</td>\n      <td>9</td>\n      <td>0</td>\n      <td>0</td>\n      <td>0.00</td>\n      <td>2023</td>\n      <td>832,500</td>\n      <td>925,000</td>\n      <td>both</td>\n    </tr>\n    <tr>\n      <th>4</th>\n      <td>Matthew Knies</td>\n      <td>TOR</td>\n      <td>3</td>\n      <td>0</td>\n      <td>1</td>\n      <td>1</td>\n      <td>1</td>\n      <td>1</td>\n      <td>2</td>\n      <td>4</td>\n      <td>...</td>\n      <td>1</td>\n      <td>3</td>\n      <td>2</td>\n      <td>0</td>\n      <td>0</td>\n      <td>0.00</td>\n      <td>2023</td>\n      <td>832,500</td>\n      <td>925,000</td>\n      <td>both</td>\n    </tr>\n    <tr>\n      <th>...</th>\n      <td>...</td>\n      <td>...</td>\n      <td>...</td>\n      <td>...</td>\n      <td>...</td>\n      <td>...</td>\n      <td>...</td>\n      <td>...</td>\n      <td>...</td>\n      <td>...</td>\n      <td>...</td>\n      <td>...</td>\n      <td>...</td>\n      <td>...</td>\n      <td>...</td>\n      <td>...</td>\n      <td>...</td>\n      <td>...</td>\n      <td>...</td>\n      <td>...</td>\n      <td>...</td>\n    </tr>\n    <tr>\n      <th>344</th>\n      <td>Kiefer Sherwood</td>\n      <td>NSH</td>\n      <td>33</td>\n      <td>7</td>\n      <td>6</td>\n      <td>13</td>\n      <td>4</td>\n      <td>12</td>\n      <td>30</td>\n      <td>57</td>\n      <td>...</td>\n      <td>14</td>\n      <td>17</td>\n      <td>15</td>\n      <td>6</td>\n      <td>4</td>\n      <td>60.00</td>\n      <td>2023</td>\n      <td>775,000</td>\n      <td>775,000</td>\n      <td>both</td>\n    </tr>\n    <tr>\n      <th>345</th>\n      <td>Ryan McDonagh</td>\n      <td>NSH</td>\n      <td>71</td>\n      <td>2</td>\n      <td>18</td>\n      <td>20</td>\n      <td>12</td>\n      <td>11</td>\n      <td>22</td>\n      <td>78</td>\n      <td>...</td>\n      <td>59</td>\n      <td>47</td>\n      <td>162</td>\n      <td>0</td>\n      <td>0</td>\n      <td>0.00</td>\n      <td>2023</td>\n      <td>8,400,000</td>\n      <td>6,750,000</td>\n      <td>both</td>\n    </tr>\n    <tr>\n      <th>346</th>\n      <td>Filip Forsberg</td>\n      <td>NSH</td>\n      <td>50</td>\n      <td>19</td>\n      <td>23</td>\n      <td>42</td>\n      <td>-3</td>\n      <td>10</td>\n      <td>20</td>\n      <td>157</td>\n      <td>...</td>\n      <td>29</td>\n      <td>34</td>\n      <td>20</td>\n      <td>0</td>\n      <td>1</td>\n      <td>0.00</td>\n      <td>2023</td>\n      <td>10,000,000</td>\n      <td>8,500,000</td>\n      <td>both</td>\n    </tr>\n    <tr>\n      <th>347</th>\n      <td>Colton Sissons</td>\n      <td>NSH</td>\n      <td>82</td>\n      <td>12</td>\n      <td>18</td>\n      <td>30</td>\n      <td>-3</td>\n      <td>10</td>\n      <td>20</td>\n      <td>88</td>\n      <td>...</td>\n      <td>27</td>\n      <td>32</td>\n      <td>72</td>\n      <td>591</td>\n      <td>516</td>\n      <td>53.39</td>\n      <td>2023</td>\n      <td>3,500,000</td>\n      <td>2,857,143</td>\n      <td>both</td>\n    </tr>\n    <tr>\n      <th>348</th>\n      <td>Yakov Trenin</td>\n      <td>NSH</td>\n      <td>77</td>\n      <td>12</td>\n      <td>12</td>\n      <td>24</td>\n      <td>-7</td>\n      <td>18</td>\n      <td>47</td>\n      <td>140</td>\n      <td>...</td>\n      <td>43</td>\n      <td>44</td>\n      <td>30</td>\n      <td>14</td>\n      <td>22</td>\n      <td>38.89</td>\n      <td>2023</td>\n      <td>1,700,000</td>\n      <td>1,700,000</td>\n      <td>both</td>\n    </tr>\n  </tbody>\n</table>\n<p>349 rows × 23 columns</p>\n</div>"
     },
     "execution_count": 30,
     "metadata": {},
     "output_type": "execute_result"
    }
   ],
   "source": [
    "# The inner merge table\n",
    "inner_merged_df = pd.merge(df_2023, df_salaries.drop(columns=['Year']), left_on=[\"Player\", \"Team\"], right_on=[\"Player\", \"Tm\"], how='inner', indicator=True).drop(columns=['Tm'])\n",
    "\n",
    "inner_merged_df.to_csv('IceHockey2023VsSalary.csv', index=False)\n",
    "inner_merged_df"
   ],
   "metadata": {
    "collapsed": false,
    "ExecuteTime": {
     "end_time": "2023-10-27T13:37:06.895480200Z",
     "start_time": "2023-10-27T13:37:06.841468600Z"
    }
   }
  },
  {
   "cell_type": "code",
   "execution_count": 31,
   "outputs": [
    {
     "data": {
      "text/plain": "                    Player Team  GP   G   A  Pts  +/-  PN  PIM    S  ...  \\\n0          Philip Tomasino  NSH  31   5  13   18    5   3    6   53  ...   \n1         Luke Evangelista  NSH  24   7   8   15    7   3    6   54  ...   \n2    Benoit-Olivier Groulx  ANA   2   0   0    0    0   0    0    2  ...   \n3              Brock Faber  MIN   2   0   0    0    2   0    0    1  ...   \n4            Matthew Knies  TOR   3   0   1    1    1   1    2    4  ...   \n..                     ...  ...  ..  ..  ..  ...  ...  ..  ...  ...  ...   \n344        Kiefer Sherwood  NSH  33   7   6   13    4  12   30   57  ...   \n345          Ryan McDonagh  NSH  71   2  18   20   12  11   22   78  ...   \n346         Filip Forsberg  NSH  50  19  23   42   -3  10   20  157  ...   \n347         Colton Sissons  NSH  82  12  18   30   -3  10   20   88  ...   \n348           Yakov Trenin  NSH  77  12  12   24   -7  18   47  140  ...   \n\n        F%  Year      Salary    Cap Hit  _merge  Pos  Num  Height     Weight  \\\n0    52.94  2023     832,500    863,333    both  NaN  NaN     NaN        NaN   \n1     0.00  2023     775,000    797,500    both  NaN  NaN     NaN        NaN   \n2    45.00  2023     775,000    775,000    both  NaN  NaN     NaN        NaN   \n3     0.00  2023     832,500    925,000    both    D    7  1.8542  90.718400   \n4     0.00  2023     832,500    925,000    both   LW   23  1.9050  98.429464   \n..     ...   ...         ...        ...     ...  ...  ...     ...        ...   \n344  60.00  2023     775,000    775,000    both  NaN  NaN     NaN        NaN   \n345   0.00  2023   8,400,000  6,750,000    both  NaN  NaN     NaN        NaN   \n346   0.00  2023  10,000,000  8,500,000    both  NaN  NaN     NaN        NaN   \n347  53.39  2023   3,500,000  2,857,143    both  NaN  NaN     NaN        NaN   \n348  38.89  2023   1,700,000  1,700,000    both  NaN  NaN     NaN        NaN   \n\n          DOB  \n0         NaN  \n1         NaN  \n2         NaN  \n3     8/22/02  \n4    10/17/02  \n..        ...  \n344       NaN  \n345       NaN  \n346       NaN  \n347       NaN  \n348       NaN  \n\n[349 rows x 28 columns]",
      "text/html": "<div>\n<style scoped>\n    .dataframe tbody tr th:only-of-type {\n        vertical-align: middle;\n    }\n\n    .dataframe tbody tr th {\n        vertical-align: top;\n    }\n\n    .dataframe thead th {\n        text-align: right;\n    }\n</style>\n<table border=\"1\" class=\"dataframe\">\n  <thead>\n    <tr style=\"text-align: right;\">\n      <th></th>\n      <th>Player</th>\n      <th>Team</th>\n      <th>GP</th>\n      <th>G</th>\n      <th>A</th>\n      <th>Pts</th>\n      <th>+/-</th>\n      <th>PN</th>\n      <th>PIM</th>\n      <th>S</th>\n      <th>...</th>\n      <th>F%</th>\n      <th>Year</th>\n      <th>Salary</th>\n      <th>Cap Hit</th>\n      <th>_merge</th>\n      <th>Pos</th>\n      <th>Num</th>\n      <th>Height</th>\n      <th>Weight</th>\n      <th>DOB</th>\n    </tr>\n  </thead>\n  <tbody>\n    <tr>\n      <th>0</th>\n      <td>Philip Tomasino</td>\n      <td>NSH</td>\n      <td>31</td>\n      <td>5</td>\n      <td>13</td>\n      <td>18</td>\n      <td>5</td>\n      <td>3</td>\n      <td>6</td>\n      <td>53</td>\n      <td>...</td>\n      <td>52.94</td>\n      <td>2023</td>\n      <td>832,500</td>\n      <td>863,333</td>\n      <td>both</td>\n      <td>NaN</td>\n      <td>NaN</td>\n      <td>NaN</td>\n      <td>NaN</td>\n      <td>NaN</td>\n    </tr>\n    <tr>\n      <th>1</th>\n      <td>Luke Evangelista</td>\n      <td>NSH</td>\n      <td>24</td>\n      <td>7</td>\n      <td>8</td>\n      <td>15</td>\n      <td>7</td>\n      <td>3</td>\n      <td>6</td>\n      <td>54</td>\n      <td>...</td>\n      <td>0.00</td>\n      <td>2023</td>\n      <td>775,000</td>\n      <td>797,500</td>\n      <td>both</td>\n      <td>NaN</td>\n      <td>NaN</td>\n      <td>NaN</td>\n      <td>NaN</td>\n      <td>NaN</td>\n    </tr>\n    <tr>\n      <th>2</th>\n      <td>Benoit-Olivier Groulx</td>\n      <td>ANA</td>\n      <td>2</td>\n      <td>0</td>\n      <td>0</td>\n      <td>0</td>\n      <td>0</td>\n      <td>0</td>\n      <td>0</td>\n      <td>2</td>\n      <td>...</td>\n      <td>45.00</td>\n      <td>2023</td>\n      <td>775,000</td>\n      <td>775,000</td>\n      <td>both</td>\n      <td>NaN</td>\n      <td>NaN</td>\n      <td>NaN</td>\n      <td>NaN</td>\n      <td>NaN</td>\n    </tr>\n    <tr>\n      <th>3</th>\n      <td>Brock Faber</td>\n      <td>MIN</td>\n      <td>2</td>\n      <td>0</td>\n      <td>0</td>\n      <td>0</td>\n      <td>2</td>\n      <td>0</td>\n      <td>0</td>\n      <td>1</td>\n      <td>...</td>\n      <td>0.00</td>\n      <td>2023</td>\n      <td>832,500</td>\n      <td>925,000</td>\n      <td>both</td>\n      <td>D</td>\n      <td>7</td>\n      <td>1.8542</td>\n      <td>90.718400</td>\n      <td>8/22/02</td>\n    </tr>\n    <tr>\n      <th>4</th>\n      <td>Matthew Knies</td>\n      <td>TOR</td>\n      <td>3</td>\n      <td>0</td>\n      <td>1</td>\n      <td>1</td>\n      <td>1</td>\n      <td>1</td>\n      <td>2</td>\n      <td>4</td>\n      <td>...</td>\n      <td>0.00</td>\n      <td>2023</td>\n      <td>832,500</td>\n      <td>925,000</td>\n      <td>both</td>\n      <td>LW</td>\n      <td>23</td>\n      <td>1.9050</td>\n      <td>98.429464</td>\n      <td>10/17/02</td>\n    </tr>\n    <tr>\n      <th>...</th>\n      <td>...</td>\n      <td>...</td>\n      <td>...</td>\n      <td>...</td>\n      <td>...</td>\n      <td>...</td>\n      <td>...</td>\n      <td>...</td>\n      <td>...</td>\n      <td>...</td>\n      <td>...</td>\n      <td>...</td>\n      <td>...</td>\n      <td>...</td>\n      <td>...</td>\n      <td>...</td>\n      <td>...</td>\n      <td>...</td>\n      <td>...</td>\n      <td>...</td>\n      <td>...</td>\n    </tr>\n    <tr>\n      <th>344</th>\n      <td>Kiefer Sherwood</td>\n      <td>NSH</td>\n      <td>33</td>\n      <td>7</td>\n      <td>6</td>\n      <td>13</td>\n      <td>4</td>\n      <td>12</td>\n      <td>30</td>\n      <td>57</td>\n      <td>...</td>\n      <td>60.00</td>\n      <td>2023</td>\n      <td>775,000</td>\n      <td>775,000</td>\n      <td>both</td>\n      <td>NaN</td>\n      <td>NaN</td>\n      <td>NaN</td>\n      <td>NaN</td>\n      <td>NaN</td>\n    </tr>\n    <tr>\n      <th>345</th>\n      <td>Ryan McDonagh</td>\n      <td>NSH</td>\n      <td>71</td>\n      <td>2</td>\n      <td>18</td>\n      <td>20</td>\n      <td>12</td>\n      <td>11</td>\n      <td>22</td>\n      <td>78</td>\n      <td>...</td>\n      <td>0.00</td>\n      <td>2023</td>\n      <td>8,400,000</td>\n      <td>6,750,000</td>\n      <td>both</td>\n      <td>NaN</td>\n      <td>NaN</td>\n      <td>NaN</td>\n      <td>NaN</td>\n      <td>NaN</td>\n    </tr>\n    <tr>\n      <th>346</th>\n      <td>Filip Forsberg</td>\n      <td>NSH</td>\n      <td>50</td>\n      <td>19</td>\n      <td>23</td>\n      <td>42</td>\n      <td>-3</td>\n      <td>10</td>\n      <td>20</td>\n      <td>157</td>\n      <td>...</td>\n      <td>0.00</td>\n      <td>2023</td>\n      <td>10,000,000</td>\n      <td>8,500,000</td>\n      <td>both</td>\n      <td>NaN</td>\n      <td>NaN</td>\n      <td>NaN</td>\n      <td>NaN</td>\n      <td>NaN</td>\n    </tr>\n    <tr>\n      <th>347</th>\n      <td>Colton Sissons</td>\n      <td>NSH</td>\n      <td>82</td>\n      <td>12</td>\n      <td>18</td>\n      <td>30</td>\n      <td>-3</td>\n      <td>10</td>\n      <td>20</td>\n      <td>88</td>\n      <td>...</td>\n      <td>53.39</td>\n      <td>2023</td>\n      <td>3,500,000</td>\n      <td>2,857,143</td>\n      <td>both</td>\n      <td>NaN</td>\n      <td>NaN</td>\n      <td>NaN</td>\n      <td>NaN</td>\n      <td>NaN</td>\n    </tr>\n    <tr>\n      <th>348</th>\n      <td>Yakov Trenin</td>\n      <td>NSH</td>\n      <td>77</td>\n      <td>12</td>\n      <td>12</td>\n      <td>24</td>\n      <td>-7</td>\n      <td>18</td>\n      <td>47</td>\n      <td>140</td>\n      <td>...</td>\n      <td>38.89</td>\n      <td>2023</td>\n      <td>1,700,000</td>\n      <td>1,700,000</td>\n      <td>both</td>\n      <td>NaN</td>\n      <td>NaN</td>\n      <td>NaN</td>\n      <td>NaN</td>\n      <td>NaN</td>\n    </tr>\n  </tbody>\n</table>\n<p>349 rows × 28 columns</p>\n</div>"
     },
     "execution_count": 31,
     "metadata": {},
     "output_type": "execute_result"
    }
   ],
   "source": [
    "# Perform a left outer join between df_player and inner_merged_df\n",
    "left_outer_merged_df = pd.merge(inner_merged_df, df_player, on=[\"Player\", \"Team\"], how='left')\n",
    "left_outer_merged_df.to_csv('IceHockey2023VsSalaryVsPlayer.csv', index=False)\n",
    "left_outer_merged_df"
   ],
   "metadata": {
    "collapsed": false,
    "ExecuteTime": {
     "end_time": "2023-10-27T13:37:07.655283300Z",
     "start_time": "2023-10-27T13:37:07.571259300Z"
    }
   }
  },
  {
   "cell_type": "code",
   "execution_count": 32,
   "outputs": [],
   "source": [
    "df_2022 = pd.read_csv('IceHockey2022.csv')\n",
    "df_salaries = pd.read_csv('Player2024Salary.csv')"
   ],
   "metadata": {
    "collapsed": false,
    "ExecuteTime": {
     "end_time": "2023-10-27T13:37:08.354264400Z",
     "start_time": "2023-10-27T13:37:08.310249700Z"
    }
   }
  },
  {
   "cell_type": "code",
   "execution_count": 33,
   "outputs": [
    {
     "data": {
      "text/plain": "              Player Team  GP   G   A  Pts  +/-  PN  PIM    S  ...  GV  TK  \\\n0       Kent Johnson  CBJ   9   0   3    3    2   1    2    5  ...   2   2   \n1      Jordan Harris  MTL  10   1   0    1    3   4    8    9  ...   8   3   \n2      Lukas Reichel  CHI  11   0   1    1   -8   0    0   15  ...   7   6   \n3        Alex Vlasic  CHI  15   1   1    2   -2   1    2   12  ...   5   5   \n4        Jack McBain  ARI  10   2   1    3   -6   3    6   13  ...   5   2   \n..               ...  ...  ..  ..  ..  ...  ...  ..  ...  ...  ...  ..  ..   \n262  Nikita Kucherov  TBL  47  25  44   69    0  11   22  156  ...  37  24   \n263    Zach Bogosian  TBL  48   3   5    8    2  18   53   60  ...  16   7   \n264       Bryan Rust  PIT  60  24  33   57    7   7   14  180  ...  36  22   \n265    Drew O'Connor  PIT  22   3   2    5   -2   2    4   40  ...   5   9   \n266      Jeff Carter  PIT  76  19  26   45   -8  18   38  200  ...  39  33   \n\n     BS   FW   FL      F%  Year     Salary    Cap Hit  _merge  \n0     1    0    0    0.00  2022    832,500    925,000    both  \n1    11    0    0    0.00  2022  1,400,000  1,400,000    both  \n2     3   16   30   34.78  2022    832,500    925,000    both  \n3    16    0    0    0.00  2022    832,500    916,667    both  \n4     9   35   68   33.98  2022  1,599,999  1,599,999    both  \n..   ..  ...  ...     ...   ...        ...        ...     ...  \n262   7    1    0  100.00  2022  5,000,000  9,500,000    both  \n263  34    0    0    0.00  2022  1,050,000    850,000    both  \n264  24    1    5   16.67  2022  6,100,000  5,125,000    both  \n265   7   18   34   34.62  2022    925,000    925,000    both  \n266  50  648  489   56.99  2022  3,000,000  3,125,000    both  \n\n[267 rows x 23 columns]",
      "text/html": "<div>\n<style scoped>\n    .dataframe tbody tr th:only-of-type {\n        vertical-align: middle;\n    }\n\n    .dataframe tbody tr th {\n        vertical-align: top;\n    }\n\n    .dataframe thead th {\n        text-align: right;\n    }\n</style>\n<table border=\"1\" class=\"dataframe\">\n  <thead>\n    <tr style=\"text-align: right;\">\n      <th></th>\n      <th>Player</th>\n      <th>Team</th>\n      <th>GP</th>\n      <th>G</th>\n      <th>A</th>\n      <th>Pts</th>\n      <th>+/-</th>\n      <th>PN</th>\n      <th>PIM</th>\n      <th>S</th>\n      <th>...</th>\n      <th>GV</th>\n      <th>TK</th>\n      <th>BS</th>\n      <th>FW</th>\n      <th>FL</th>\n      <th>F%</th>\n      <th>Year</th>\n      <th>Salary</th>\n      <th>Cap Hit</th>\n      <th>_merge</th>\n    </tr>\n  </thead>\n  <tbody>\n    <tr>\n      <th>0</th>\n      <td>Kent Johnson</td>\n      <td>CBJ</td>\n      <td>9</td>\n      <td>0</td>\n      <td>3</td>\n      <td>3</td>\n      <td>2</td>\n      <td>1</td>\n      <td>2</td>\n      <td>5</td>\n      <td>...</td>\n      <td>2</td>\n      <td>2</td>\n      <td>1</td>\n      <td>0</td>\n      <td>0</td>\n      <td>0.00</td>\n      <td>2022</td>\n      <td>832,500</td>\n      <td>925,000</td>\n      <td>both</td>\n    </tr>\n    <tr>\n      <th>1</th>\n      <td>Jordan Harris</td>\n      <td>MTL</td>\n      <td>10</td>\n      <td>1</td>\n      <td>0</td>\n      <td>1</td>\n      <td>3</td>\n      <td>4</td>\n      <td>8</td>\n      <td>9</td>\n      <td>...</td>\n      <td>8</td>\n      <td>3</td>\n      <td>11</td>\n      <td>0</td>\n      <td>0</td>\n      <td>0.00</td>\n      <td>2022</td>\n      <td>1,400,000</td>\n      <td>1,400,000</td>\n      <td>both</td>\n    </tr>\n    <tr>\n      <th>2</th>\n      <td>Lukas Reichel</td>\n      <td>CHI</td>\n      <td>11</td>\n      <td>0</td>\n      <td>1</td>\n      <td>1</td>\n      <td>-8</td>\n      <td>0</td>\n      <td>0</td>\n      <td>15</td>\n      <td>...</td>\n      <td>7</td>\n      <td>6</td>\n      <td>3</td>\n      <td>16</td>\n      <td>30</td>\n      <td>34.78</td>\n      <td>2022</td>\n      <td>832,500</td>\n      <td>925,000</td>\n      <td>both</td>\n    </tr>\n    <tr>\n      <th>3</th>\n      <td>Alex Vlasic</td>\n      <td>CHI</td>\n      <td>15</td>\n      <td>1</td>\n      <td>1</td>\n      <td>2</td>\n      <td>-2</td>\n      <td>1</td>\n      <td>2</td>\n      <td>12</td>\n      <td>...</td>\n      <td>5</td>\n      <td>5</td>\n      <td>16</td>\n      <td>0</td>\n      <td>0</td>\n      <td>0.00</td>\n      <td>2022</td>\n      <td>832,500</td>\n      <td>916,667</td>\n      <td>both</td>\n    </tr>\n    <tr>\n      <th>4</th>\n      <td>Jack McBain</td>\n      <td>ARI</td>\n      <td>10</td>\n      <td>2</td>\n      <td>1</td>\n      <td>3</td>\n      <td>-6</td>\n      <td>3</td>\n      <td>6</td>\n      <td>13</td>\n      <td>...</td>\n      <td>5</td>\n      <td>2</td>\n      <td>9</td>\n      <td>35</td>\n      <td>68</td>\n      <td>33.98</td>\n      <td>2022</td>\n      <td>1,599,999</td>\n      <td>1,599,999</td>\n      <td>both</td>\n    </tr>\n    <tr>\n      <th>...</th>\n      <td>...</td>\n      <td>...</td>\n      <td>...</td>\n      <td>...</td>\n      <td>...</td>\n      <td>...</td>\n      <td>...</td>\n      <td>...</td>\n      <td>...</td>\n      <td>...</td>\n      <td>...</td>\n      <td>...</td>\n      <td>...</td>\n      <td>...</td>\n      <td>...</td>\n      <td>...</td>\n      <td>...</td>\n      <td>...</td>\n      <td>...</td>\n      <td>...</td>\n      <td>...</td>\n    </tr>\n    <tr>\n      <th>262</th>\n      <td>Nikita Kucherov</td>\n      <td>TBL</td>\n      <td>47</td>\n      <td>25</td>\n      <td>44</td>\n      <td>69</td>\n      <td>0</td>\n      <td>11</td>\n      <td>22</td>\n      <td>156</td>\n      <td>...</td>\n      <td>37</td>\n      <td>24</td>\n      <td>7</td>\n      <td>1</td>\n      <td>0</td>\n      <td>100.00</td>\n      <td>2022</td>\n      <td>5,000,000</td>\n      <td>9,500,000</td>\n      <td>both</td>\n    </tr>\n    <tr>\n      <th>263</th>\n      <td>Zach Bogosian</td>\n      <td>TBL</td>\n      <td>48</td>\n      <td>3</td>\n      <td>5</td>\n      <td>8</td>\n      <td>2</td>\n      <td>18</td>\n      <td>53</td>\n      <td>60</td>\n      <td>...</td>\n      <td>16</td>\n      <td>7</td>\n      <td>34</td>\n      <td>0</td>\n      <td>0</td>\n      <td>0.00</td>\n      <td>2022</td>\n      <td>1,050,000</td>\n      <td>850,000</td>\n      <td>both</td>\n    </tr>\n    <tr>\n      <th>264</th>\n      <td>Bryan Rust</td>\n      <td>PIT</td>\n      <td>60</td>\n      <td>24</td>\n      <td>33</td>\n      <td>57</td>\n      <td>7</td>\n      <td>7</td>\n      <td>14</td>\n      <td>180</td>\n      <td>...</td>\n      <td>36</td>\n      <td>22</td>\n      <td>24</td>\n      <td>1</td>\n      <td>5</td>\n      <td>16.67</td>\n      <td>2022</td>\n      <td>6,100,000</td>\n      <td>5,125,000</td>\n      <td>both</td>\n    </tr>\n    <tr>\n      <th>265</th>\n      <td>Drew O'Connor</td>\n      <td>PIT</td>\n      <td>22</td>\n      <td>3</td>\n      <td>2</td>\n      <td>5</td>\n      <td>-2</td>\n      <td>2</td>\n      <td>4</td>\n      <td>40</td>\n      <td>...</td>\n      <td>5</td>\n      <td>9</td>\n      <td>7</td>\n      <td>18</td>\n      <td>34</td>\n      <td>34.62</td>\n      <td>2022</td>\n      <td>925,000</td>\n      <td>925,000</td>\n      <td>both</td>\n    </tr>\n    <tr>\n      <th>266</th>\n      <td>Jeff Carter</td>\n      <td>PIT</td>\n      <td>76</td>\n      <td>19</td>\n      <td>26</td>\n      <td>45</td>\n      <td>-8</td>\n      <td>18</td>\n      <td>38</td>\n      <td>200</td>\n      <td>...</td>\n      <td>39</td>\n      <td>33</td>\n      <td>50</td>\n      <td>648</td>\n      <td>489</td>\n      <td>56.99</td>\n      <td>2022</td>\n      <td>3,000,000</td>\n      <td>3,125,000</td>\n      <td>both</td>\n    </tr>\n  </tbody>\n</table>\n<p>267 rows × 23 columns</p>\n</div>"
     },
     "execution_count": 33,
     "metadata": {},
     "output_type": "execute_result"
    }
   ],
   "source": [
    "# The inner merge table\n",
    "inner_merged_df = pd.merge(df_2022, df_salaries.drop(columns=['Year']), left_on=[\"Player\", \"Team\"], right_on=[\"Player\", \"Tm\"], how='inner', indicator=True).drop(columns=['Tm'])\n",
    "\n",
    "inner_merged_df.to_csv('IceHockey2022VsSalary.csv')\n",
    "inner_merged_df"
   ],
   "metadata": {
    "collapsed": false,
    "ExecuteTime": {
     "end_time": "2023-10-27T13:37:09.175575200Z",
     "start_time": "2023-10-27T13:37:09.118563600Z"
    }
   }
  },
  {
   "cell_type": "code",
   "execution_count": 34,
   "outputs": [
    {
     "data": {
      "text/plain": "              Player Team  GP   G   A  Pts  +/-  PN  PIM    S  ...      F%  \\\n0       Kent Johnson  CBJ   9   0   3    3    2   1    2    5  ...    0.00   \n1      Jordan Harris  MTL  10   1   0    1    3   4    8    9  ...    0.00   \n2      Lukas Reichel  CHI  11   0   1    1   -8   0    0   15  ...   34.78   \n3        Alex Vlasic  CHI  15   1   1    2   -2   1    2   12  ...    0.00   \n4        Jack McBain  ARI  10   2   1    3   -6   3    6   13  ...   33.98   \n..               ...  ...  ..  ..  ..  ...  ...  ..  ...  ...  ...     ...   \n262  Nikita Kucherov  TBL  47  25  44   69    0  11   22  156  ...  100.00   \n263    Zach Bogosian  TBL  48   3   5    8    2  18   53   60  ...    0.00   \n264       Bryan Rust  PIT  60  24  33   57    7   7   14  180  ...   16.67   \n265    Drew O'Connor  PIT  22   3   2    5   -2   2    4   40  ...   34.62   \n266      Jeff Carter  PIT  76  19  26   45   -8  18   38  200  ...   56.99   \n\n     Year     Salary    Cap Hit  _merge  Pos  Num  Height     Weight      DOB  \n0    2022    832,500    925,000    both  NaN  NaN     NaN        NaN      NaN  \n1    2022  1,400,000  1,400,000    both  NaN  NaN     NaN        NaN      NaN  \n2    2022    832,500    925,000    both   LW   27  1.8288  77.110640  5/17/02  \n3    2022    832,500    916,667    both    D   72  1.9812  90.264808   6/5/01  \n4    2022  1,599,999  1,599,999    both    C   22  1.9050  91.171992   1/6/00  \n..    ...        ...        ...     ...  ...  ...     ...        ...      ...  \n262  2022  5,000,000  9,500,000    both  NaN  NaN     NaN        NaN      NaN  \n263  2022  1,050,000    850,000    both  NaN  NaN     NaN        NaN      NaN  \n264  2022  6,100,000  5,125,000    both   RW   17  1.8034  87.089664  5/11/92  \n265  2022    925,000    925,000    both   LW   10  1.9050  90.718400   6/9/98  \n266  2022  3,000,000  3,125,000    both   RW   77  1.9050  99.336648   1/1/85  \n\n[267 rows x 28 columns]",
      "text/html": "<div>\n<style scoped>\n    .dataframe tbody tr th:only-of-type {\n        vertical-align: middle;\n    }\n\n    .dataframe tbody tr th {\n        vertical-align: top;\n    }\n\n    .dataframe thead th {\n        text-align: right;\n    }\n</style>\n<table border=\"1\" class=\"dataframe\">\n  <thead>\n    <tr style=\"text-align: right;\">\n      <th></th>\n      <th>Player</th>\n      <th>Team</th>\n      <th>GP</th>\n      <th>G</th>\n      <th>A</th>\n      <th>Pts</th>\n      <th>+/-</th>\n      <th>PN</th>\n      <th>PIM</th>\n      <th>S</th>\n      <th>...</th>\n      <th>F%</th>\n      <th>Year</th>\n      <th>Salary</th>\n      <th>Cap Hit</th>\n      <th>_merge</th>\n      <th>Pos</th>\n      <th>Num</th>\n      <th>Height</th>\n      <th>Weight</th>\n      <th>DOB</th>\n    </tr>\n  </thead>\n  <tbody>\n    <tr>\n      <th>0</th>\n      <td>Kent Johnson</td>\n      <td>CBJ</td>\n      <td>9</td>\n      <td>0</td>\n      <td>3</td>\n      <td>3</td>\n      <td>2</td>\n      <td>1</td>\n      <td>2</td>\n      <td>5</td>\n      <td>...</td>\n      <td>0.00</td>\n      <td>2022</td>\n      <td>832,500</td>\n      <td>925,000</td>\n      <td>both</td>\n      <td>NaN</td>\n      <td>NaN</td>\n      <td>NaN</td>\n      <td>NaN</td>\n      <td>NaN</td>\n    </tr>\n    <tr>\n      <th>1</th>\n      <td>Jordan Harris</td>\n      <td>MTL</td>\n      <td>10</td>\n      <td>1</td>\n      <td>0</td>\n      <td>1</td>\n      <td>3</td>\n      <td>4</td>\n      <td>8</td>\n      <td>9</td>\n      <td>...</td>\n      <td>0.00</td>\n      <td>2022</td>\n      <td>1,400,000</td>\n      <td>1,400,000</td>\n      <td>both</td>\n      <td>NaN</td>\n      <td>NaN</td>\n      <td>NaN</td>\n      <td>NaN</td>\n      <td>NaN</td>\n    </tr>\n    <tr>\n      <th>2</th>\n      <td>Lukas Reichel</td>\n      <td>CHI</td>\n      <td>11</td>\n      <td>0</td>\n      <td>1</td>\n      <td>1</td>\n      <td>-8</td>\n      <td>0</td>\n      <td>0</td>\n      <td>15</td>\n      <td>...</td>\n      <td>34.78</td>\n      <td>2022</td>\n      <td>832,500</td>\n      <td>925,000</td>\n      <td>both</td>\n      <td>LW</td>\n      <td>27</td>\n      <td>1.8288</td>\n      <td>77.110640</td>\n      <td>5/17/02</td>\n    </tr>\n    <tr>\n      <th>3</th>\n      <td>Alex Vlasic</td>\n      <td>CHI</td>\n      <td>15</td>\n      <td>1</td>\n      <td>1</td>\n      <td>2</td>\n      <td>-2</td>\n      <td>1</td>\n      <td>2</td>\n      <td>12</td>\n      <td>...</td>\n      <td>0.00</td>\n      <td>2022</td>\n      <td>832,500</td>\n      <td>916,667</td>\n      <td>both</td>\n      <td>D</td>\n      <td>72</td>\n      <td>1.9812</td>\n      <td>90.264808</td>\n      <td>6/5/01</td>\n    </tr>\n    <tr>\n      <th>4</th>\n      <td>Jack McBain</td>\n      <td>ARI</td>\n      <td>10</td>\n      <td>2</td>\n      <td>1</td>\n      <td>3</td>\n      <td>-6</td>\n      <td>3</td>\n      <td>6</td>\n      <td>13</td>\n      <td>...</td>\n      <td>33.98</td>\n      <td>2022</td>\n      <td>1,599,999</td>\n      <td>1,599,999</td>\n      <td>both</td>\n      <td>C</td>\n      <td>22</td>\n      <td>1.9050</td>\n      <td>91.171992</td>\n      <td>1/6/00</td>\n    </tr>\n    <tr>\n      <th>...</th>\n      <td>...</td>\n      <td>...</td>\n      <td>...</td>\n      <td>...</td>\n      <td>...</td>\n      <td>...</td>\n      <td>...</td>\n      <td>...</td>\n      <td>...</td>\n      <td>...</td>\n      <td>...</td>\n      <td>...</td>\n      <td>...</td>\n      <td>...</td>\n      <td>...</td>\n      <td>...</td>\n      <td>...</td>\n      <td>...</td>\n      <td>...</td>\n      <td>...</td>\n      <td>...</td>\n    </tr>\n    <tr>\n      <th>262</th>\n      <td>Nikita Kucherov</td>\n      <td>TBL</td>\n      <td>47</td>\n      <td>25</td>\n      <td>44</td>\n      <td>69</td>\n      <td>0</td>\n      <td>11</td>\n      <td>22</td>\n      <td>156</td>\n      <td>...</td>\n      <td>100.00</td>\n      <td>2022</td>\n      <td>5,000,000</td>\n      <td>9,500,000</td>\n      <td>both</td>\n      <td>NaN</td>\n      <td>NaN</td>\n      <td>NaN</td>\n      <td>NaN</td>\n      <td>NaN</td>\n    </tr>\n    <tr>\n      <th>263</th>\n      <td>Zach Bogosian</td>\n      <td>TBL</td>\n      <td>48</td>\n      <td>3</td>\n      <td>5</td>\n      <td>8</td>\n      <td>2</td>\n      <td>18</td>\n      <td>53</td>\n      <td>60</td>\n      <td>...</td>\n      <td>0.00</td>\n      <td>2022</td>\n      <td>1,050,000</td>\n      <td>850,000</td>\n      <td>both</td>\n      <td>NaN</td>\n      <td>NaN</td>\n      <td>NaN</td>\n      <td>NaN</td>\n      <td>NaN</td>\n    </tr>\n    <tr>\n      <th>264</th>\n      <td>Bryan Rust</td>\n      <td>PIT</td>\n      <td>60</td>\n      <td>24</td>\n      <td>33</td>\n      <td>57</td>\n      <td>7</td>\n      <td>7</td>\n      <td>14</td>\n      <td>180</td>\n      <td>...</td>\n      <td>16.67</td>\n      <td>2022</td>\n      <td>6,100,000</td>\n      <td>5,125,000</td>\n      <td>both</td>\n      <td>RW</td>\n      <td>17</td>\n      <td>1.8034</td>\n      <td>87.089664</td>\n      <td>5/11/92</td>\n    </tr>\n    <tr>\n      <th>265</th>\n      <td>Drew O'Connor</td>\n      <td>PIT</td>\n      <td>22</td>\n      <td>3</td>\n      <td>2</td>\n      <td>5</td>\n      <td>-2</td>\n      <td>2</td>\n      <td>4</td>\n      <td>40</td>\n      <td>...</td>\n      <td>34.62</td>\n      <td>2022</td>\n      <td>925,000</td>\n      <td>925,000</td>\n      <td>both</td>\n      <td>LW</td>\n      <td>10</td>\n      <td>1.9050</td>\n      <td>90.718400</td>\n      <td>6/9/98</td>\n    </tr>\n    <tr>\n      <th>266</th>\n      <td>Jeff Carter</td>\n      <td>PIT</td>\n      <td>76</td>\n      <td>19</td>\n      <td>26</td>\n      <td>45</td>\n      <td>-8</td>\n      <td>18</td>\n      <td>38</td>\n      <td>200</td>\n      <td>...</td>\n      <td>56.99</td>\n      <td>2022</td>\n      <td>3,000,000</td>\n      <td>3,125,000</td>\n      <td>both</td>\n      <td>RW</td>\n      <td>77</td>\n      <td>1.9050</td>\n      <td>99.336648</td>\n      <td>1/1/85</td>\n    </tr>\n  </tbody>\n</table>\n<p>267 rows × 28 columns</p>\n</div>"
     },
     "execution_count": 34,
     "metadata": {},
     "output_type": "execute_result"
    }
   ],
   "source": [
    "# Perform a left outer join between df_player and inner_merged_df\n",
    "left_outer_merged_df = pd.merge(inner_merged_df, df_player, on=[\"Player\", \"Team\"], how='left')\n",
    "left_outer_merged_df.to_csv('IceHockey2022VsSalaryVsPlayer.csv', index=False)\n",
    "left_outer_merged_df"
   ],
   "metadata": {
    "collapsed": false,
    "ExecuteTime": {
     "end_time": "2023-10-27T13:37:09.740715800Z",
     "start_time": "2023-10-27T13:37:09.695704300Z"
    }
   }
  },
  {
   "cell_type": "code",
   "execution_count": null,
   "outputs": [],
   "source": [],
   "metadata": {
    "collapsed": false
   }
  }
 ],
 "metadata": {
  "kernelspec": {
   "display_name": "Python 3",
   "language": "python",
   "name": "python3"
  },
  "language_info": {
   "codemirror_mode": {
    "name": "ipython",
    "version": 2
   },
   "file_extension": ".py",
   "mimetype": "text/x-python",
   "name": "python",
   "nbconvert_exporter": "python",
   "pygments_lexer": "ipython2",
   "version": "2.7.6"
  }
 },
 "nbformat": 4,
 "nbformat_minor": 0
}
