{
 "cells": [
  {
   "cell_type": "code",
   "execution_count": 3,
   "metadata": {
    "collapsed": true,
    "ExecuteTime": {
     "end_time": "2023-10-18T01:20:06.988369600Z",
     "start_time": "2023-10-18T01:20:06.981880300Z"
    }
   },
   "outputs": [],
   "source": [
    "import pandas as pd\n",
    "import requests\n",
    "from bs4 import BeautifulSoup\n",
    "\n",
    "def scrape_icydata_player_stats(id, year):\n",
    "    # Construct the URL based on the provided id\n",
    "    url = f\"https://www.icydata.hockey/player_stats/{id}\"\n",
    "\n",
    "    # Send an HTTP GET request to the URL\n",
    "    response = requests.get(url)\n",
    "\n",
    "    # Check if the request was successful\n",
    "    if response.status_code == 200:\n",
    "        # Parse the HTML content of the page\n",
    "        soup = BeautifulSoup(response.text, 'html.parser')\n",
    "\n",
    "        # Find the table with the id \"player-stats\"\n",
    "        table = soup.find('table', {'id': 'player-stats'})\n",
    "\n",
    "        if table:\n",
    "            # Extract data from the table\n",
    "            rows = table.find_all('tr')\n",
    "            data = []\n",
    "\n",
    "            for row in rows:\n",
    "                data_cells = row.find_all('td')\n",
    "                if data_cells:\n",
    "                    data.append([cell.get_text(strip=True) for cell in data_cells])\n",
    "\n",
    "            # Assuming the first row is the header\n",
    "            header_cells = rows[0].find_all('th')\n",
    "            headers = [cell.get_text(strip=True) for cell in header_cells]\n",
    "\n",
    "            # Create a pandas DataFrame\n",
    "            df = pd.DataFrame(data, columns=headers)\n",
    "\n",
    "            # Create a Series with 2023\n",
    "            year_series = pd.Series([year] * len(df))\n",
    "\n",
    "            # Assign the Series to the 'Year' column in the DataFrame\n",
    "            df['Year'] = year_series\n",
    "\n",
    "            # Return the DataFrame\n",
    "            return df\n",
    "\n",
    "        else:\n",
    "            print(\"Table with id 'player-stats' not found on the page.\")\n",
    "            return None\n",
    "\n",
    "    else:\n",
    "        print(\"Failed to retrieve the page. Status code:\", response.status_code)\n",
    "        return None"
   ]
  },
  {
   "cell_type": "code",
   "execution_count": 4,
   "outputs": [
    {
     "data": {
      "text/plain": "               Player Team  GP   G   A Pts  +/-  PN PIM    S  SB  MS    H  GV   \n0    Jake Livingstone  NSH   5   0   1   1   -2   1   2    3   4   2    6   3  \\\n1     Philip Tomasino  NSH  31   5  13  18    5   3   6   53  21  26   28  15   \n2    Luke Evangelista  NSH  24   7   8  15    7   3   6   54  17   7    9   9   \n3    Spencer Stastney  NSH   8   0   2   2    4   1   2    9   3   2    2   3   \n4         Tommy Novak  NSH  42  13  24  37    4   3   6   71  32  27    6  13   \n..                ...  ...  ..  ..  ..  ..  ...  ..  ..  ...  ..  ..  ...  ..   \n954   Mikael Granlund  NSH  79  10  32  42  -15  10  20  121  51  51   78  33   \n955    Filip Forsberg  NSH  50  19  23  42   -3  10  20  157  81  84   86  29   \n956    Colton Sissons  NSH  82  12  18  30   -3  10  20   88  43  48  164  27   \n957      Yakov Trenin  NSH  77  12  12  24   -7  18  47  140  52  64  167  43   \n958    Steven Lorentz  S.J  80  10   9  19  -17   7  16  112  40  41  133  15   \n\n     TK  BS   FW   FL     F%  Year  \n0     0  12    0    0      0  2023  \n1    10  16    9    8  52.94  2023  \n2    15   6    0    0      0  2023  \n3     2   9    0    0      0  2023  \n4    24  21  161  181  47.08  2023  \n..   ..  ..  ...  ...    ...   ...  \n954  38  61  171  213  44.53  2023  \n955  34  20    0    1      0  2023  \n956  32  72  591  516  53.39  2023  \n957  44  30   14   22  38.89  2023  \n958  46  46  262  284  47.99  2023  \n\n[959 rows x 20 columns]",
      "text/html": "<div>\n<style scoped>\n    .dataframe tbody tr th:only-of-type {\n        vertical-align: middle;\n    }\n\n    .dataframe tbody tr th {\n        vertical-align: top;\n    }\n\n    .dataframe thead th {\n        text-align: right;\n    }\n</style>\n<table border=\"1\" class=\"dataframe\">\n  <thead>\n    <tr style=\"text-align: right;\">\n      <th></th>\n      <th>Player</th>\n      <th>Team</th>\n      <th>GP</th>\n      <th>G</th>\n      <th>A</th>\n      <th>Pts</th>\n      <th>+/-</th>\n      <th>PN</th>\n      <th>PIM</th>\n      <th>S</th>\n      <th>SB</th>\n      <th>MS</th>\n      <th>H</th>\n      <th>GV</th>\n      <th>TK</th>\n      <th>BS</th>\n      <th>FW</th>\n      <th>FL</th>\n      <th>F%</th>\n      <th>Year</th>\n    </tr>\n  </thead>\n  <tbody>\n    <tr>\n      <th>0</th>\n      <td>Jake Livingstone</td>\n      <td>NSH</td>\n      <td>5</td>\n      <td>0</td>\n      <td>1</td>\n      <td>1</td>\n      <td>-2</td>\n      <td>1</td>\n      <td>2</td>\n      <td>3</td>\n      <td>4</td>\n      <td>2</td>\n      <td>6</td>\n      <td>3</td>\n      <td>0</td>\n      <td>12</td>\n      <td>0</td>\n      <td>0</td>\n      <td>0</td>\n      <td>2023</td>\n    </tr>\n    <tr>\n      <th>1</th>\n      <td>Philip Tomasino</td>\n      <td>NSH</td>\n      <td>31</td>\n      <td>5</td>\n      <td>13</td>\n      <td>18</td>\n      <td>5</td>\n      <td>3</td>\n      <td>6</td>\n      <td>53</td>\n      <td>21</td>\n      <td>26</td>\n      <td>28</td>\n      <td>15</td>\n      <td>10</td>\n      <td>16</td>\n      <td>9</td>\n      <td>8</td>\n      <td>52.94</td>\n      <td>2023</td>\n    </tr>\n    <tr>\n      <th>2</th>\n      <td>Luke Evangelista</td>\n      <td>NSH</td>\n      <td>24</td>\n      <td>7</td>\n      <td>8</td>\n      <td>15</td>\n      <td>7</td>\n      <td>3</td>\n      <td>6</td>\n      <td>54</td>\n      <td>17</td>\n      <td>7</td>\n      <td>9</td>\n      <td>9</td>\n      <td>15</td>\n      <td>6</td>\n      <td>0</td>\n      <td>0</td>\n      <td>0</td>\n      <td>2023</td>\n    </tr>\n    <tr>\n      <th>3</th>\n      <td>Spencer Stastney</td>\n      <td>NSH</td>\n      <td>8</td>\n      <td>0</td>\n      <td>2</td>\n      <td>2</td>\n      <td>4</td>\n      <td>1</td>\n      <td>2</td>\n      <td>9</td>\n      <td>3</td>\n      <td>2</td>\n      <td>2</td>\n      <td>3</td>\n      <td>2</td>\n      <td>9</td>\n      <td>0</td>\n      <td>0</td>\n      <td>0</td>\n      <td>2023</td>\n    </tr>\n    <tr>\n      <th>4</th>\n      <td>Tommy Novak</td>\n      <td>NSH</td>\n      <td>42</td>\n      <td>13</td>\n      <td>24</td>\n      <td>37</td>\n      <td>4</td>\n      <td>3</td>\n      <td>6</td>\n      <td>71</td>\n      <td>32</td>\n      <td>27</td>\n      <td>6</td>\n      <td>13</td>\n      <td>24</td>\n      <td>21</td>\n      <td>161</td>\n      <td>181</td>\n      <td>47.08</td>\n      <td>2023</td>\n    </tr>\n    <tr>\n      <th>...</th>\n      <td>...</td>\n      <td>...</td>\n      <td>...</td>\n      <td>...</td>\n      <td>...</td>\n      <td>...</td>\n      <td>...</td>\n      <td>...</td>\n      <td>...</td>\n      <td>...</td>\n      <td>...</td>\n      <td>...</td>\n      <td>...</td>\n      <td>...</td>\n      <td>...</td>\n      <td>...</td>\n      <td>...</td>\n      <td>...</td>\n      <td>...</td>\n      <td>...</td>\n    </tr>\n    <tr>\n      <th>954</th>\n      <td>Mikael Granlund</td>\n      <td>NSH</td>\n      <td>79</td>\n      <td>10</td>\n      <td>32</td>\n      <td>42</td>\n      <td>-15</td>\n      <td>10</td>\n      <td>20</td>\n      <td>121</td>\n      <td>51</td>\n      <td>51</td>\n      <td>78</td>\n      <td>33</td>\n      <td>38</td>\n      <td>61</td>\n      <td>171</td>\n      <td>213</td>\n      <td>44.53</td>\n      <td>2023</td>\n    </tr>\n    <tr>\n      <th>955</th>\n      <td>Filip Forsberg</td>\n      <td>NSH</td>\n      <td>50</td>\n      <td>19</td>\n      <td>23</td>\n      <td>42</td>\n      <td>-3</td>\n      <td>10</td>\n      <td>20</td>\n      <td>157</td>\n      <td>81</td>\n      <td>84</td>\n      <td>86</td>\n      <td>29</td>\n      <td>34</td>\n      <td>20</td>\n      <td>0</td>\n      <td>1</td>\n      <td>0</td>\n      <td>2023</td>\n    </tr>\n    <tr>\n      <th>956</th>\n      <td>Colton Sissons</td>\n      <td>NSH</td>\n      <td>82</td>\n      <td>12</td>\n      <td>18</td>\n      <td>30</td>\n      <td>-3</td>\n      <td>10</td>\n      <td>20</td>\n      <td>88</td>\n      <td>43</td>\n      <td>48</td>\n      <td>164</td>\n      <td>27</td>\n      <td>32</td>\n      <td>72</td>\n      <td>591</td>\n      <td>516</td>\n      <td>53.39</td>\n      <td>2023</td>\n    </tr>\n    <tr>\n      <th>957</th>\n      <td>Yakov Trenin</td>\n      <td>NSH</td>\n      <td>77</td>\n      <td>12</td>\n      <td>12</td>\n      <td>24</td>\n      <td>-7</td>\n      <td>18</td>\n      <td>47</td>\n      <td>140</td>\n      <td>52</td>\n      <td>64</td>\n      <td>167</td>\n      <td>43</td>\n      <td>44</td>\n      <td>30</td>\n      <td>14</td>\n      <td>22</td>\n      <td>38.89</td>\n      <td>2023</td>\n    </tr>\n    <tr>\n      <th>958</th>\n      <td>Steven Lorentz</td>\n      <td>S.J</td>\n      <td>80</td>\n      <td>10</td>\n      <td>9</td>\n      <td>19</td>\n      <td>-17</td>\n      <td>7</td>\n      <td>16</td>\n      <td>112</td>\n      <td>40</td>\n      <td>41</td>\n      <td>133</td>\n      <td>15</td>\n      <td>46</td>\n      <td>46</td>\n      <td>262</td>\n      <td>284</td>\n      <td>47.99</td>\n      <td>2023</td>\n    </tr>\n  </tbody>\n</table>\n<p>959 rows × 20 columns</p>\n</div>"
     },
     "execution_count": 4,
     "metadata": {},
     "output_type": "execute_result"
    }
   ],
   "source": [
    "# 2023 Player States:\n",
    "id_to_scrape = 39\n",
    "target_year = 2023\n",
    "df_2023 = scrape_icydata_player_stats(id_to_scrape, target_year)\n",
    "df_2023.to_csv(f'IceHockey{target_year}.csv', encoding='utf-8')\n",
    "df_2023"
   ],
   "metadata": {
    "collapsed": false,
    "ExecuteTime": {
     "end_time": "2023-10-18T01:20:14.937565Z",
     "start_time": "2023-10-18T01:20:07.779124900Z"
    }
   }
  },
  {
   "cell_type": "code",
   "execution_count": 5,
   "outputs": [
    {
     "data": {
      "text/plain": "             Player Team  GP   G   A Pts +/-  PN PIM    S  SB  MS   H  GV  TK   \n0      Viktor Lodin  OTT   1   0   0   0   0   0   0    3   0   0   0   0   0  \\\n1      Chris Wagner  BOS   1   0   0   0  -1   0   0    2   0   1  11   0   0   \n2      Kent Johnson  CBJ   9   0   3   3   2   1   2    5   7   8   4   2   2   \n3         Zac Jones  NYR  12   0   2   2  -7   0   0    8   3   6   4  12  15   \n4       Hunter Drew  ANA   2   0   0   0   0   1   5    0   1   0   5   0   0   \n...             ...  ...  ..  ..  ..  ..  ..  ..  ..  ...  ..  ..  ..  ..  ..   \n1007    John Marino  PIT  81   1  23  24   4  10  23   90  62  39  73  35  43   \n1008  Drew O'Connor  PIT  22   3   2   5  -2   2   4   40   8  14  12   5   9   \n1009      Jan Rutta  TBL  76   3  15  18  24  22  49   86  68  44  93  18   6   \n1010  Teddy Blueger  PIT  65   9  21  30  12   5  10   93  20  21  87  22  37   \n1011    Jeff Carter  PIT  76  19  26  45  -8  18  38  200  69  45  98  39  33   \n\n      BS   FW   FL     F%  Year  \n0      0    0    0      0  2022  \n1      0    0    1      0  2022  \n2      1    0    0      0  2022  \n3     13    0    0      0  2022  \n4      0    0    0      0  2022  \n...   ..  ...  ...    ...   ...  \n1007  88    0    0      0  2022  \n1008   7   18   34  34.62  2022  \n1009  71    0    0      0  2022  \n1010  32  356  318  52.82  2022  \n1011  50  648  489  56.99  2022  \n\n[1012 rows x 20 columns]",
      "text/html": "<div>\n<style scoped>\n    .dataframe tbody tr th:only-of-type {\n        vertical-align: middle;\n    }\n\n    .dataframe tbody tr th {\n        vertical-align: top;\n    }\n\n    .dataframe thead th {\n        text-align: right;\n    }\n</style>\n<table border=\"1\" class=\"dataframe\">\n  <thead>\n    <tr style=\"text-align: right;\">\n      <th></th>\n      <th>Player</th>\n      <th>Team</th>\n      <th>GP</th>\n      <th>G</th>\n      <th>A</th>\n      <th>Pts</th>\n      <th>+/-</th>\n      <th>PN</th>\n      <th>PIM</th>\n      <th>S</th>\n      <th>SB</th>\n      <th>MS</th>\n      <th>H</th>\n      <th>GV</th>\n      <th>TK</th>\n      <th>BS</th>\n      <th>FW</th>\n      <th>FL</th>\n      <th>F%</th>\n      <th>Year</th>\n    </tr>\n  </thead>\n  <tbody>\n    <tr>\n      <th>0</th>\n      <td>Viktor Lodin</td>\n      <td>OTT</td>\n      <td>1</td>\n      <td>0</td>\n      <td>0</td>\n      <td>0</td>\n      <td>0</td>\n      <td>0</td>\n      <td>0</td>\n      <td>3</td>\n      <td>0</td>\n      <td>0</td>\n      <td>0</td>\n      <td>0</td>\n      <td>0</td>\n      <td>0</td>\n      <td>0</td>\n      <td>0</td>\n      <td>0</td>\n      <td>2022</td>\n    </tr>\n    <tr>\n      <th>1</th>\n      <td>Chris Wagner</td>\n      <td>BOS</td>\n      <td>1</td>\n      <td>0</td>\n      <td>0</td>\n      <td>0</td>\n      <td>-1</td>\n      <td>0</td>\n      <td>0</td>\n      <td>2</td>\n      <td>0</td>\n      <td>1</td>\n      <td>11</td>\n      <td>0</td>\n      <td>0</td>\n      <td>0</td>\n      <td>0</td>\n      <td>1</td>\n      <td>0</td>\n      <td>2022</td>\n    </tr>\n    <tr>\n      <th>2</th>\n      <td>Kent Johnson</td>\n      <td>CBJ</td>\n      <td>9</td>\n      <td>0</td>\n      <td>3</td>\n      <td>3</td>\n      <td>2</td>\n      <td>1</td>\n      <td>2</td>\n      <td>5</td>\n      <td>7</td>\n      <td>8</td>\n      <td>4</td>\n      <td>2</td>\n      <td>2</td>\n      <td>1</td>\n      <td>0</td>\n      <td>0</td>\n      <td>0</td>\n      <td>2022</td>\n    </tr>\n    <tr>\n      <th>3</th>\n      <td>Zac Jones</td>\n      <td>NYR</td>\n      <td>12</td>\n      <td>0</td>\n      <td>2</td>\n      <td>2</td>\n      <td>-7</td>\n      <td>0</td>\n      <td>0</td>\n      <td>8</td>\n      <td>3</td>\n      <td>6</td>\n      <td>4</td>\n      <td>12</td>\n      <td>15</td>\n      <td>13</td>\n      <td>0</td>\n      <td>0</td>\n      <td>0</td>\n      <td>2022</td>\n    </tr>\n    <tr>\n      <th>4</th>\n      <td>Hunter Drew</td>\n      <td>ANA</td>\n      <td>2</td>\n      <td>0</td>\n      <td>0</td>\n      <td>0</td>\n      <td>0</td>\n      <td>1</td>\n      <td>5</td>\n      <td>0</td>\n      <td>1</td>\n      <td>0</td>\n      <td>5</td>\n      <td>0</td>\n      <td>0</td>\n      <td>0</td>\n      <td>0</td>\n      <td>0</td>\n      <td>0</td>\n      <td>2022</td>\n    </tr>\n    <tr>\n      <th>...</th>\n      <td>...</td>\n      <td>...</td>\n      <td>...</td>\n      <td>...</td>\n      <td>...</td>\n      <td>...</td>\n      <td>...</td>\n      <td>...</td>\n      <td>...</td>\n      <td>...</td>\n      <td>...</td>\n      <td>...</td>\n      <td>...</td>\n      <td>...</td>\n      <td>...</td>\n      <td>...</td>\n      <td>...</td>\n      <td>...</td>\n      <td>...</td>\n      <td>...</td>\n    </tr>\n    <tr>\n      <th>1007</th>\n      <td>John Marino</td>\n      <td>PIT</td>\n      <td>81</td>\n      <td>1</td>\n      <td>23</td>\n      <td>24</td>\n      <td>4</td>\n      <td>10</td>\n      <td>23</td>\n      <td>90</td>\n      <td>62</td>\n      <td>39</td>\n      <td>73</td>\n      <td>35</td>\n      <td>43</td>\n      <td>88</td>\n      <td>0</td>\n      <td>0</td>\n      <td>0</td>\n      <td>2022</td>\n    </tr>\n    <tr>\n      <th>1008</th>\n      <td>Drew O'Connor</td>\n      <td>PIT</td>\n      <td>22</td>\n      <td>3</td>\n      <td>2</td>\n      <td>5</td>\n      <td>-2</td>\n      <td>2</td>\n      <td>4</td>\n      <td>40</td>\n      <td>8</td>\n      <td>14</td>\n      <td>12</td>\n      <td>5</td>\n      <td>9</td>\n      <td>7</td>\n      <td>18</td>\n      <td>34</td>\n      <td>34.62</td>\n      <td>2022</td>\n    </tr>\n    <tr>\n      <th>1009</th>\n      <td>Jan Rutta</td>\n      <td>TBL</td>\n      <td>76</td>\n      <td>3</td>\n      <td>15</td>\n      <td>18</td>\n      <td>24</td>\n      <td>22</td>\n      <td>49</td>\n      <td>86</td>\n      <td>68</td>\n      <td>44</td>\n      <td>93</td>\n      <td>18</td>\n      <td>6</td>\n      <td>71</td>\n      <td>0</td>\n      <td>0</td>\n      <td>0</td>\n      <td>2022</td>\n    </tr>\n    <tr>\n      <th>1010</th>\n      <td>Teddy Blueger</td>\n      <td>PIT</td>\n      <td>65</td>\n      <td>9</td>\n      <td>21</td>\n      <td>30</td>\n      <td>12</td>\n      <td>5</td>\n      <td>10</td>\n      <td>93</td>\n      <td>20</td>\n      <td>21</td>\n      <td>87</td>\n      <td>22</td>\n      <td>37</td>\n      <td>32</td>\n      <td>356</td>\n      <td>318</td>\n      <td>52.82</td>\n      <td>2022</td>\n    </tr>\n    <tr>\n      <th>1011</th>\n      <td>Jeff Carter</td>\n      <td>PIT</td>\n      <td>76</td>\n      <td>19</td>\n      <td>26</td>\n      <td>45</td>\n      <td>-8</td>\n      <td>18</td>\n      <td>38</td>\n      <td>200</td>\n      <td>69</td>\n      <td>45</td>\n      <td>98</td>\n      <td>39</td>\n      <td>33</td>\n      <td>50</td>\n      <td>648</td>\n      <td>489</td>\n      <td>56.99</td>\n      <td>2022</td>\n    </tr>\n  </tbody>\n</table>\n<p>1012 rows × 20 columns</p>\n</div>"
     },
     "execution_count": 5,
     "metadata": {},
     "output_type": "execute_result"
    }
   ],
   "source": [
    "# 2023 Player States:\n",
    "id_to_scrape = 36\n",
    "target_year = 2022\n",
    "df_2022 = scrape_icydata_player_stats(id_to_scrape, target_year)\n",
    "df_2022.to_csv(f'IceHockey{target_year}.csv', encoding='utf-8')\n",
    "df_2022"
   ],
   "metadata": {
    "collapsed": false,
    "ExecuteTime": {
     "end_time": "2023-10-18T01:20:23.699843900Z",
     "start_time": "2023-10-18T01:20:16.460001100Z"
    }
   }
  },
  {
   "cell_type": "code",
   "execution_count": 24,
   "outputs": [],
   "source": [
    "def scrape_nhl_salaries(year):\n",
    "    # Construct the URL based on the provided year\n",
    "    url = f\"https://www.hockey-reference.com/friv/current_nhl_salaries.cgi\"\n",
    "\n",
    "    # Send an HTTP GET request to the URL\n",
    "    response = requests.get(url)\n",
    "\n",
    "    # Check if the request was successful\n",
    "    if response.status_code == 200:\n",
    "        # Parse the HTML content of the page\n",
    "        soup = BeautifulSoup(response.text, 'html.parser')\n",
    "\n",
    "        # Find the table with the id \"salaries\"\n",
    "        table = soup.find('table', {'id': 'salaries'})\n",
    "\n",
    "        if table:\n",
    "            # Extract data from the table\n",
    "            rows = table.find_all('tr')\n",
    "            data = []\n",
    "\n",
    "            for row in rows:\n",
    "                # Check if it's a header row (th elements) or data row (td elements)\n",
    "                cells = row.find_all(['th', 'td'])\n",
    "                row_data = [cell.get_text(strip=True) for cell in cells]\n",
    "                data.append(row_data)\n",
    "\n",
    "            # Assuming the first row is the header\n",
    "            header_cells = rows[0].find_all('th')\n",
    "            headers = [cell.get_text(strip=True) for cell in header_cells]\n",
    "\n",
    "            # Create a pandas DataFrame\n",
    "            df = pd.DataFrame(data, columns=headers)\n",
    "\n",
    "            # Create a Series with the provided year\n",
    "            year_series = pd.Series([year] * len(df))\n",
    "\n",
    "            # Assign the Series to the 'Year' column in the DataFrame\n",
    "            df['Year'] = year_series\n",
    "\n",
    "            # Return the DataFrame\n",
    "            return df\n",
    "\n",
    "        else:\n",
    "            print(\"Table with id 'salaries' not found on the page.\")\n",
    "            return None\n",
    "\n",
    "    else:\n",
    "        print(\"Failed to retrieve the page. Status code:\", response.status_code)\n",
    "        return None"
   ],
   "metadata": {
    "collapsed": false,
    "ExecuteTime": {
     "end_time": "2023-10-18T01:39:12.773726Z",
     "start_time": "2023-10-18T01:39:12.770206700Z"
    }
   }
  },
  {
   "cell_type": "code",
   "execution_count": 26,
   "outputs": [
    {
     "data": {
      "text/plain": "                   Player   Tm      Salary     Cap Hit  Year\n0                  Player   Tm      Salary     Cap Hit  2024\n1         Kirill Kaprizov  MIN  12,500,000   9,000,000  2024\n2                Adam Fox  NYR  12,000,000   9,500,000  2024\n3            Drew Doughty  LAK  11,000,000  11,000,000  2024\n4              Cale Makar  COL  11,000,000   9,000,000  2024\n..                    ...  ...         ...         ...   ...\n711        Justin Sourdif  FLA     775,000     847,500  2024\n712  Oliver Ekman-Larsson  FLA     775,000   2,250,000  2024\n713        Uvis Balinskis  FLA     775,000     870,000  2024\n714          Cuylle, Will  NYR     775,000     828,333  2024\n715             Greer, AJ  CGY     775,000     762,500  2024\n\n[716 rows x 5 columns]",
      "text/html": "<div>\n<style scoped>\n    .dataframe tbody tr th:only-of-type {\n        vertical-align: middle;\n    }\n\n    .dataframe tbody tr th {\n        vertical-align: top;\n    }\n\n    .dataframe thead th {\n        text-align: right;\n    }\n</style>\n<table border=\"1\" class=\"dataframe\">\n  <thead>\n    <tr style=\"text-align: right;\">\n      <th></th>\n      <th>Player</th>\n      <th>Tm</th>\n      <th>Salary</th>\n      <th>Cap Hit</th>\n      <th>Year</th>\n    </tr>\n  </thead>\n  <tbody>\n    <tr>\n      <th>0</th>\n      <td>Player</td>\n      <td>Tm</td>\n      <td>Salary</td>\n      <td>Cap Hit</td>\n      <td>2024</td>\n    </tr>\n    <tr>\n      <th>1</th>\n      <td>Kirill Kaprizov</td>\n      <td>MIN</td>\n      <td>12,500,000</td>\n      <td>9,000,000</td>\n      <td>2024</td>\n    </tr>\n    <tr>\n      <th>2</th>\n      <td>Adam Fox</td>\n      <td>NYR</td>\n      <td>12,000,000</td>\n      <td>9,500,000</td>\n      <td>2024</td>\n    </tr>\n    <tr>\n      <th>3</th>\n      <td>Drew Doughty</td>\n      <td>LAK</td>\n      <td>11,000,000</td>\n      <td>11,000,000</td>\n      <td>2024</td>\n    </tr>\n    <tr>\n      <th>4</th>\n      <td>Cale Makar</td>\n      <td>COL</td>\n      <td>11,000,000</td>\n      <td>9,000,000</td>\n      <td>2024</td>\n    </tr>\n    <tr>\n      <th>...</th>\n      <td>...</td>\n      <td>...</td>\n      <td>...</td>\n      <td>...</td>\n      <td>...</td>\n    </tr>\n    <tr>\n      <th>711</th>\n      <td>Justin Sourdif</td>\n      <td>FLA</td>\n      <td>775,000</td>\n      <td>847,500</td>\n      <td>2024</td>\n    </tr>\n    <tr>\n      <th>712</th>\n      <td>Oliver Ekman-Larsson</td>\n      <td>FLA</td>\n      <td>775,000</td>\n      <td>2,250,000</td>\n      <td>2024</td>\n    </tr>\n    <tr>\n      <th>713</th>\n      <td>Uvis Balinskis</td>\n      <td>FLA</td>\n      <td>775,000</td>\n      <td>870,000</td>\n      <td>2024</td>\n    </tr>\n    <tr>\n      <th>714</th>\n      <td>Cuylle, Will</td>\n      <td>NYR</td>\n      <td>775,000</td>\n      <td>828,333</td>\n      <td>2024</td>\n    </tr>\n    <tr>\n      <th>715</th>\n      <td>Greer, AJ</td>\n      <td>CGY</td>\n      <td>775,000</td>\n      <td>762,500</td>\n      <td>2024</td>\n    </tr>\n  </tbody>\n</table>\n<p>716 rows × 5 columns</p>\n</div>"
     },
     "execution_count": 26,
     "metadata": {},
     "output_type": "execute_result"
    }
   ],
   "source": [
    "# Example usage:\n",
    "year_to_scrape = 2024\n",
    "\n",
    "data_frame_salaries = scrape_nhl_salaries(year_to_scrape)\n",
    "\n",
    "data_frame_salaries.to_csv('Player2024Salary.csv', encoding='utf-8')\n",
    "data_frame_salaries"
   ],
   "metadata": {
    "collapsed": false,
    "ExecuteTime": {
     "end_time": "2023-10-18T01:39:59.126908300Z",
     "start_time": "2023-10-18T01:39:58.800182800Z"
    }
   }
  },
  {
   "cell_type": "code",
   "execution_count": null,
   "outputs": [],
   "source": [],
   "metadata": {
    "collapsed": false
   }
  }
 ],
 "metadata": {
  "kernelspec": {
   "display_name": "Python 3",
   "language": "python",
   "name": "python3"
  },
  "language_info": {
   "codemirror_mode": {
    "name": "ipython",
    "version": 2
   },
   "file_extension": ".py",
   "mimetype": "text/x-python",
   "name": "python",
   "nbconvert_exporter": "python",
   "pygments_lexer": "ipython2",
   "version": "2.7.6"
  }
 },
 "nbformat": 4,
 "nbformat_minor": 0
}
